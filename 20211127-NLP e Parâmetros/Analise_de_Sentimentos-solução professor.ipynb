{
  "nbformat": 4,
  "nbformat_minor": 0,
  "metadata": {
    "colab": {
      "name": "Analise de Sentimentos.ipynb",
      "provenance": []
    },
    "kernelspec": {
      "name": "python3",
      "display_name": "Python 3"
    },
    "language_info": {
      "name": "python"
    }
  },
  "cells": [
    {
      "cell_type": "markdown",
      "metadata": {
        "id": "TEhhER1ZQnqw"
      },
      "source": [
        "##Objetivo\n",
        "O objetivo deste projeto é identificar emoções em textos escritos em português do Brasil. Por exemplo, identificar que a mensagem \"américa latina é região mais atingida pela nova gripe, diz oms\" sugere a emoção \"medo\".\n",
        "\n",
        "##Sobre o conjunto de dados\n",
        "O conjunto de dados de textos para análise de emoções consiste de 1700 textos escritos em português do Brasil. Para cada texto existe uma classe que representa a principal emoção identificada no texto (alvo).\n",
        "\n",
        "As 7 emoções possíveis e suas respectivas frequências na base disponibilizada são:\n",
        "\n",
        "Emoção|Quantidade de textos\n",
        "\n",
        "* Alegria | 156\n",
        "* Desgosto | 223\n",
        "* Medo | 189\n",
        "* Neutro | 461\n",
        "* Raiva | 70\n",
        "* Surpresa | 214\n",
        "* Tristeza | 387\n",
        "\n",
        "**O objetivo deste desafio é identificar a principal emoção de cada texto.**"
      ]
    },
    {
      "cell_type": "code",
      "metadata": {
        "id": "FuZhP-rfQuOc"
      },
      "source": [
        "# Bibliotecas básicas\n",
        "import pandas as pd\n",
        "import numpy as np\n",
        "import re\n",
        "\n",
        "#Tratamento de texto\n",
        "from bs4 import BeautifulSoup\n",
        "from html import unescape\n",
        "\n",
        "#NLP\n",
        "import nltk\n",
        "from unicodedata import normalize\n",
        "from nltk.tokenize import RegexpTokenizer\n",
        "from nltk.corpus import stopwords\n",
        "\n",
        "#Métricas e estatísticas\n",
        "import statistics\n",
        "from sklearn import metrics\n",
        "from scipy.stats import uniform\n",
        "from sklearn.metrics import accuracy_score, f1_score, precision_score, recall_score\n",
        "\n",
        "#Divisão e validação dos dados(treino e teste)\n",
        "from sklearn.model_selection import train_test_split, StratifiedKFold, KFold, cross_validate\n",
        "\n",
        "#Pesquisa de hiperparâmetros\n",
        "from sklearn.model_selection import RandomizedSearchCV\n",
        "\n",
        "#Vetorização de texto\n",
        "from sklearn.feature_extraction.text import TfidfVectorizer\n",
        "\n",
        "# Gráficos\n",
        "import seaborn as sns\n",
        "import matplotlib.pyplot as plt\n",
        "\n",
        "\n",
        "# Desativando os avisos sobre as bibliotecas depreciadas:\n",
        "import warnings\n",
        "warnings.filterwarnings(\"ignore\", category=DeprecationWarning)\n",
        "\n",
        "%matplotlib inline"
      ],
      "execution_count": null,
      "outputs": []
    },
    {
      "cell_type": "markdown",
      "metadata": {
        "id": "khHeCe-Ie344"
      },
      "source": [
        "\n",
        "## Importando base de dados:\n",
        "\n",
        "* Conjunto de treinamento (1700 textos) (treino.csv)\n",
        "\n",
        "* Conjunto de testes (300 textos) (teste-sem-texto.csv)\n",
        "\n",
        "As colunas neste conjunto de dados são:\n",
        "\n",
        "  * id String: identificação do texto\n",
        "  * texto String: Texto escrito em português do Brasil\n",
        "  * classe String: Principal emoção do texto\n"
      ]
    },
    {
      "cell_type": "code",
      "metadata": {
        "id": "g7_UtNx7fMr5"
      },
      "source": [
        "# se precisar colocamos o arquivo em uma URL no drive\n",
        "data_source_treino = \"treino.csv\"\n",
        "df_twitter = pd.read_csv(data_source_treino)"
      ],
      "execution_count": null,
      "outputs": []
    },
    {
      "cell_type": "markdown",
      "metadata": {
        "id": "TRcReye5fQu1"
      },
      "source": [
        "# Explorando os dados"
      ]
    },
    {
      "cell_type": "code",
      "metadata": {
        "colab": {
          "base_uri": "https://localhost:8080/",
          "height": 203
        },
        "id": "J42Cyz0qfXJS",
        "outputId": "17400191-99d4-4ecb-b923-9c68116b01dc"
      },
      "source": [
        "df_twitter.head()"
      ],
      "execution_count": null,
      "outputs": [
        {
          "output_type": "execute_result",
          "data": {
            "text/html": [
              "<div>\n",
              "<style scoped>\n",
              "    .dataframe tbody tr th:only-of-type {\n",
              "        vertical-align: middle;\n",
              "    }\n",
              "\n",
              "    .dataframe tbody tr th {\n",
              "        vertical-align: top;\n",
              "    }\n",
              "\n",
              "    .dataframe thead th {\n",
              "        text-align: right;\n",
              "    }\n",
              "</style>\n",
              "<table border=\"1\" class=\"dataframe\">\n",
              "  <thead>\n",
              "    <tr style=\"text-align: right;\">\n",
              "      <th></th>\n",
              "      <th>id</th>\n",
              "      <th>texto</th>\n",
              "      <th>classe</th>\n",
              "    </tr>\n",
              "  </thead>\n",
              "  <tbody>\n",
              "    <tr>\n",
              "      <th>0</th>\n",
              "      <td>675</td>\n",
              "      <td>lula diz que senado tem maioridade para resolv...</td>\n",
              "      <td>neutro</td>\n",
              "    </tr>\n",
              "    <tr>\n",
              "      <th>1</th>\n",
              "      <td>1733</td>\n",
              "      <td>adolescente é morto por ouvir música alta nos ...</td>\n",
              "      <td>tristeza</td>\n",
              "    </tr>\n",
              "    <tr>\n",
              "      <th>2</th>\n",
              "      <td>1855</td>\n",
              "      <td>coreia do sul insinua que hackers ligados à co...</td>\n",
              "      <td>neutro</td>\n",
              "    </tr>\n",
              "    <tr>\n",
              "      <th>3</th>\n",
              "      <td>1144</td>\n",
              "      <td>mamãe foca dá selinho em filhote recém-nascido...</td>\n",
              "      <td>alegria</td>\n",
              "    </tr>\n",
              "    <tr>\n",
              "      <th>4</th>\n",
              "      <td>462</td>\n",
              "      <td>adolescente de 15 anos que estava sumida é ach...</td>\n",
              "      <td>tristeza</td>\n",
              "    </tr>\n",
              "  </tbody>\n",
              "</table>\n",
              "</div>"
            ],
            "text/plain": [
              "     id                                              texto    classe\n",
              "0   675  lula diz que senado tem maioridade para resolv...    neutro\n",
              "1  1733  adolescente é morto por ouvir música alta nos ...  tristeza\n",
              "2  1855  coreia do sul insinua que hackers ligados à co...    neutro\n",
              "3  1144  mamãe foca dá selinho em filhote recém-nascido...   alegria\n",
              "4   462  adolescente de 15 anos que estava sumida é ach...  tristeza"
            ]
          },
          "metadata": {},
          "execution_count": 3
        }
      ]
    },
    {
      "cell_type": "code",
      "metadata": {
        "colab": {
          "base_uri": "https://localhost:8080/"
        },
        "id": "P_I7-Hb_futa",
        "outputId": "2d56148e-a482-41db-a132-924f42a5b3cf"
      },
      "source": [
        "print(\"Tamanho da base de treinamento: {}\".format(df_twitter.shape[0]))\n",
        "df_twitter.classe.value_counts()"
      ],
      "execution_count": null,
      "outputs": [
        {
          "output_type": "stream",
          "name": "stdout",
          "text": [
            "Tamanho da base de treinamento: 1700\n"
          ]
        },
        {
          "output_type": "execute_result",
          "data": {
            "text/plain": [
              "neutro      461\n",
              "tristeza    387\n",
              "desgosto    223\n",
              "surpresa    214\n",
              "medo        189\n",
              "alegria     156\n",
              "raiva        70\n",
              "Name: classe, dtype: int64"
            ]
          },
          "metadata": {},
          "execution_count": 4
        }
      ]
    },
    {
      "cell_type": "code",
      "metadata": {
        "colab": {
          "base_uri": "https://localhost:8080/"
        },
        "id": "Zt8wk7shgAXH",
        "outputId": "a1b10ca2-b261-4e1a-c476-f7192fdbb783"
      },
      "source": [
        "print((df_twitter.classe.value_counts()/df_twitter.shape[0])*100)"
      ],
      "execution_count": null,
      "outputs": [
        {
          "output_type": "stream",
          "name": "stdout",
          "text": [
            "neutro      27.117647\n",
            "tristeza    22.764706\n",
            "desgosto    13.117647\n",
            "surpresa    12.588235\n",
            "medo        11.117647\n",
            "alegria      9.176471\n",
            "raiva        4.117647\n",
            "Name: classe, dtype: float64\n"
          ]
        }
      ]
    },
    {
      "cell_type": "code",
      "metadata": {
        "colab": {
          "base_uri": "https://localhost:8080/",
          "height": 514
        },
        "id": "wRhoek7agQ3m",
        "outputId": "e8f7ae37-4b22-4b7b-e185-65dfe8ae5b51"
      },
      "source": [
        "fig, ax = plt.subplots(figsize=(16,8))\n",
        "sns.countplot(x=\"classe\", ax=ax, data=df_twitter)"
      ],
      "execution_count": null,
      "outputs": [
        {
          "output_type": "execute_result",
          "data": {
            "text/plain": [
              "<matplotlib.axes._subplots.AxesSubplot at 0x7f3e9b11f450>"
            ]
          },
          "metadata": {},
          "execution_count": 6
        },
        {
          "output_type": "display_data",
          "data": {
            "image/png": "[encoded data removed]",
            "text/plain": [
              "<Figure size 1152x576 with 1 Axes>"
            ]
          },
          "metadata": {
            "needs_background": "light"
          }
        }
      ]
    },
    {
      "cell_type": "markdown",
      "metadata": {
        "id": "U6FCps-Vgmfr"
      },
      "source": [
        "### Podemos verificar que as classes estão desbalanceadas.\n",
        "\n",
        "É necessário balanceá-las?\n",
        "\n",
        "\n",
        "Mas há outras coisas importantes que devemos saber sobre os dados? Vamos explorar um pouco estes dados olhando diretamente o arquivo csv.\n",
        "\n",
        "Geralmente Twitters podem conter emojis, emoticons, # e @, então é necessário tratarmos estes casos, inclusive com remoção de caracteres especiais, números, etc.\n",
        "\n",
        "Outra questão importante é verificarmos a quantidade de caracteres que os textos possuem. Registros com pouco texto podem ser um problema e podem mudar a abordagem a ser utilizada (técnica).\n"
      ]
    },
    {
      "cell_type": "code",
      "metadata": {
        "colab": {
          "base_uri": "https://localhost:8080/"
        },
        "id": "y5jjvBxahENT",
        "outputId": "371504f6-fd81-4b91-91d7-e694fcea64fa"
      },
      "source": [
        "df_twitter.texto.apply(len).describe()"
      ],
      "execution_count": null,
      "outputs": [
        {
          "output_type": "execute_result",
          "data": {
            "text/plain": [
              "count    1700.000000\n",
              "mean      192.362353\n",
              "std        37.454016\n",
              "min        90.000000\n",
              "25%       172.000000\n",
              "50%       191.000000\n",
              "75%       207.000000\n",
              "max       556.000000\n",
              "Name: texto, dtype: float64"
            ]
          },
          "metadata": {},
          "execution_count": 8
        }
      ]
    },
    {
      "cell_type": "markdown",
      "metadata": {
        "id": "y4UDs78yiKJh"
      },
      "source": [
        "## Pré-processamento dos textos\n",
        "A primeira coisa que devemos fazer é o pré-processar os textos, removendo trecho inúteis ou pouco significativos. Para limpar as frases, faremos o seguinte:\n",
        "\n",
        "* **Converter para minúsculo**: Converter todos caracteres para minúsculo;\n",
        "\n",
        "* **Remover caracteres especiais**: Remover links e nomes de usuários e transformar emojis em textos (não vi isso na exploração que eu fiz, mas como os dados são do Twitter isso pode ocorrer);\n",
        "\n",
        "* **Remover repetições**: Remover repetições de caracteres (ex: whaaaaaat => what);\n",
        "\n",
        "\n",
        "* **Remover Stop Words**: Remover stop words comuns.\n",
        "\n",
        "* **Executar processo de stemização** \n",
        "\n",
        "\n",
        "Para o passo das palavras vazias, é importante manter negações (não, nunca, etc) para preservar a intenção."
      ]
    },
    {
      "cell_type": "code",
      "metadata": {
        "colab": {
          "base_uri": "https://localhost:8080/"
        },
        "id": "xTK9dRbHhOSs",
        "outputId": "eab6def8-56e5-49c8-97aa-3217ef46aa06"
      },
      "source": [
        "# Tokenizador: utilizado para separar uma frase em palavras\n",
        "tokenizer = RegexpTokenizer(r'\\w+')\n",
        "\n",
        "#para stopword\n",
        "nltk.download('stopwords')\n",
        "\n",
        "# para stemização\n",
        "import nltk  \n",
        "nltk.download('rslp')\n",
        "\n",
        "stemmer = nltk.stem.RSLPStemmer()\n",
        "\n",
        "# Semente aleatória usada neste notebook, para garantir reprodutibilidade de resultados\n",
        "random_state=5899"
      ],
      "execution_count": null,
      "outputs": [
        {
          "output_type": "stream",
          "name": "stdout",
          "text": [
            "[nltk_data] Downloading package stopwords to /root/nltk_data...\n",
            "[nltk_data]   Unzipping corpora/stopwords.zip.\n",
            "[nltk_data] Downloading package rslp to /root/nltk_data...\n",
            "[nltk_data]   Unzipping stemmers/rslp.zip.\n"
          ]
        }
      ]
    },
    {
      "cell_type": "markdown",
      "metadata": {
        "id": "Uxki95yUi5gI"
      },
      "source": [
        "### Preparando rotina para tratar **Stopwords**\n",
        "Para isso vamos importar as stop words relacionadas ao idioma portugues da biblioteca **nltk**."
      ]
    },
    {
      "cell_type": "code",
      "metadata": {
        "colab": {
          "base_uri": "https://localhost:8080/"
        },
        "id": "ZnRT2soAi8D2",
        "outputId": "a1a201d6-ed24-4492-b9a0-5128c590b4ea"
      },
      "source": [
        "# Temos que ver se este stopword é portugues de portugal ou portugues do Brasil\n",
        "lista_stop = set(stopwords.words('portuguese'))\n",
        "np.transpose(lista_stop)\n",
        "\n"
      ],
      "execution_count": null,
      "outputs": [
        {
          "output_type": "execute_result",
          "data": {
            "text/plain": [
              "array({'haja', 'houveram', 'te', 'serão', 'estava', 'com', 'tivermos', 'temos', 'fôramos', 'tem', 'tiver', 'estavam', 'esteve', 'seus', 'tivera', 'tinha', 'estávamos', 'eles', 'você', 'éramos', 'só', 'e', 'elas', 'às', 'tiveram', 'quando', 'isso', 'dos', 'teriam', 'nós', 'minha', 'em', 'uma', 'nossas', 'estou', 'não', 'também', 'vocês', 'suas', 'que', 'dela', 'houverei', 'houveriam', 'fossem', 'essas', 'estivesse', 'tivéramos', 'aquele', 'deles', 'nosso', 'entre', 'meus', 'houvessem', 'teus', 'houverão', 'depois', 'como', 'mas', 'qual', 'houvera', 'seriam', 'estão', 'terei', 'tivéssemos', 'tiverem', 'sejamos', 'das', 'houvermos', 'até', 'isto', 'teríamos', 'de', 'mais', 'estejamos', 'sejam', 'tém', 'tivesse', 'hei', 'hajam', 'aos', 'no', 'para', 'tivessem', 'mesmo', 'estivessem', 'há', 'teve', 'estivera', 'já', 'meu', 'dele', 'estivéramos', 'aqueles', 'houvemos', 'a', 'pelas', 'lhe', 'tuas', 'foram', 'houverá', 'pelo', 'quem', 'seja', 'tenham', 'pelos', 'terá', 'por', 'na', 'estivemos', 'houvesse', 'seria', 'for', 'sem', 'tenha', 'estes', 'houveríamos', 'tínhamos', 'teremos', 'houveremos', 'formos', 'tive', 'nos', 'me', 'aquelas', 'hão', 'ela', 'pela', 'delas', 'está', 'um', 'seremos', 'havemos', 'teria', 'ao', 'seu', 'é', 'se', 'minhas', 'seríamos', 'numa', 'são', 'nas', 'será', 'sou', 'estiver', 'esses', 'houvéramos', 'da', 'estivéssemos', 'houveria', 'as', 'nossa', 'este', 'tivemos', 'estamos', 'o', 'vos', 'tenho', 'fomos', 'eram', 'tu', 'tenhamos', 'fui', 'estive', 'num', 'ou', 'estejam', 'teu', 'hajamos', 'fôssemos', 'ele', 'tua', 'houver', 'aquela', 'esteja', 'houverem', 'essa', 'do', 'somos', 'esta', 'forem', 'muito', 'estas', 'estiveram', 'nossos', 'esse', 'era', 'foi', 'houvéssemos', 'eu', 'aquilo', 'serei', 'terão', 'fora', 'tinham', 'nem', 'sua', 'à', 'estivermos', 'estiverem', 'os', 'lhes', 'fosse', 'houve'},\n",
              "      dtype=object)"
            ]
          },
          "metadata": {},
          "execution_count": 10
        }
      ]
    },
    {
      "cell_type": "code",
      "metadata": {
        "id": "6E-JduXajgZx"
      },
      "source": [
        "import unicodedata\n",
        "def strip_accents(text):\n",
        "    text = normalize('NFKD', text).encode('ASCII', 'ignore').decode('ASCII')\n",
        "    return text"
      ],
      "execution_count": null,
      "outputs": []
    },
    {
      "cell_type": "code",
      "metadata": {
        "id": "QcyTm8LdlQHN"
      },
      "source": [
        "dias_da_semana = ['segunda-feira', 'terca-feira', 'quarta-feira', 'quinta-feira', 'sexta-feira', 'sabado', 'domingo'\\\n",
        "                 'segunda', 'terca', 'quarta', 'quinta', 'sexta']\n",
        "nome_meses = ['janeiro', 'fevereiro', 'marco', 'abril', 'maio', 'junho', 'julho', 'agosto', 'setembro', 'outubro',\\\n",
        "              'novembro', 'dezembro'] \n",
        "siglas_estados =  ['ac', 'al', 'ap', 'am', 'ba', 'ce', 'df', 'es', 'go', 'ma', 'mt', 'ms', 'mg', 'pa', 'pb', 'pr',\\\n",
        "                   'pe', 'pi', 'rj', 'rn', 'rs', 'ro', 'rr', 'sc', 'sp', 'se', 'to', \\\n",
        "                   'acre', 'alagoas', 'amapa', 'amazonas', 'bahia', 'ceara', 'espirito santo', 'goias', 'maranhao',\\\n",
        "                   'mato grosso', 'mato grosso do sul', 'minas gerais', 'para', 'paraiba', 'parana', 'pernambuco',\\\n",
        "                   'piaui', 'rio de janeiro', 'rio grande do norte', 'rio grande do sul', 'rondonia', 'roraima',\\\n",
        "                   'santa catarina', 'sao paulo', 'sergipe', 'tocantins', 'brasilia',\\\n",
        "                   'rio branco', 'maceio', 'macapa', 'manaus', 'salvador', 'fortaleza', 'vitoria', 'goiania',\\\n",
        "                   'sao luis', 'cuiaba', 'campo grande', 'belo horizonte', 'belem', 'joao pessoa', 'curitiba',\\\n",
        "                   'recife', 'teresina', 'rio de janeiro', 'natal', 'porto alegre', 'porto velho', 'boa vista',\\\n",
        "                   'florianopolis', 'sao paulo', 'aracaju', 'palmas']\n",
        "medidas_comprimento = ['km','hm','dam','m', 'mm','cm','dm','metro','metros']\n",
        "medidas_peso = ['kg','hg','dag','g', 'mg','cg','dg', 'quilo', 'tonelada']\n",
        "medidas_volume = ['kl','hl','dal','l', 'ml','cl','dl','litro']\n",
        "posicao = ['primeiro', 'segundo', 'terceiro', 'quarto', 'quinto', 'sexto', 'setimo', 'oitavo', 'nono', 'decimo',\\\n",
        "           'primeira', 'segunda', 'terceira', 'quarta', 'quinta', 'sexta', 'setima', 'oitava', 'nona', 'decima',\n",
        "           'dezena', 'centena', 'milhar', 'milhares']\n",
        "outras = ['dia', 'dias', 'mes', 'meses', 'ano', 'anos', 'bimestre', 'trimestre','semestre', 'hora', 'horas', 'periodo',\\\n",
        "          'mil', 'milhao', 'milhoes', 'bilhao', 'bilhoes', 'trilhao', 'trilhoes', \\\n",
        "          'um', 'dois', 'tres', 'quatro', 'cinco', 'seis', 'sete', 'oito', 'nove', 'dez', \\\n",
        "          'comeco', 'inicio', 'fim', 'primeiro', 'primeira', 'ultimo', 'ultima', 'antes', 'depois', 'apos', 'passada',\\\n",
        "          'este', 'estes', 'esta', 'estas', 'deste', 'destes', 'desta', 'destas', 'neste', 'nestes', 'nesta', 'nestas',\\\n",
        "          'durante', 'daquele', 'daqueles', 'daquela', 'daquelas', 'entretanto', 'sobre',\\\n",
        "          'norte', 'sul', 'leste', 'oeste', 'nordeste', 'sudeste', 'sudoeste',  'noroeste'\\\n",
        "          'hoje', 'ontem', 'agora', 'passado', 'futuro', 'madrugada', 'dia', 'noite', 'meio-dia', 'meia-noite']"
      ],
      "execution_count": null,
      "outputs": []
    },
    {
      "cell_type": "code",
      "metadata": {
        "id": "FJ4Rk8zilxfQ"
      },
      "source": [
        "def remove_palavras(t,l):\n",
        "  # remove palavras l do texto t\n",
        "    return \" \".join([p for p in t.split() if (p != \"\") and (p not in l)])"
      ],
      "execution_count": null,
      "outputs": []
    },
    {
      "cell_type": "code",
      "metadata": {
        "id": "5EWRtUcsl7Ec"
      },
      "source": [
        "def remove_pontuacao(t):\n",
        "  pontuacao='“!\\\"\\”#%&\\'()*+,./:;<=>?@[\\\\]^_`{|}~ºª„•'\n",
        "  newstring='' \n",
        "  for i in t:\n",
        "     if(i not in pontuacao):\n",
        "                  newstring+=i\n",
        "  t = newstring\n",
        "  return t"
      ],
      "execution_count": null,
      "outputs": []
    },
    {
      "cell_type": "code",
      "metadata": {
        "id": "MlGr8OqumO3Z"
      },
      "source": [
        "def trata_texto(texto):\n",
        "  frase = texto\n",
        "  \n",
        "  # coloca tudo em minusculo\n",
        "  frase = frase.lower()\n",
        "  # Minúsculas\n",
        "  \n",
        "  # remove acentos\n",
        "  frase = strip_accents(frase)\n",
        "  \n",
        "  # Remover e-mail\n",
        "  frase = re.sub(r'\\b[\\w\\.-]+@[\\w\\.-]+\\b',\" \",frase)  \n",
        "\n",
        "  #frase = frase.replace('[^!.?: ]+', \" \")  \n",
        "  #frase = re.sub(\"(@[A-Za-z]+)|([^A-Za-z \\t])|(\\w+:\\/\\/\\S+)\",\" \",frase)  \n",
        "    \n",
        "  frase = remove_pontuacao(frase)\n",
        "  frase = remove_palavras(frase,dias_da_semana)\n",
        "  frase = remove_palavras(frase,nome_meses)\n",
        "  frase = remove_palavras(frase,siglas_estados)\n",
        "  frase = remove_palavras(frase,medidas_comprimento)\n",
        "  frase = remove_palavras(frase,medidas_peso)\n",
        "  frase = remove_palavras(frase,medidas_volume)\n",
        "  frase = remove_palavras(frase,posicao)\n",
        "  frase = remove_palavras(frase,outras)\n",
        "  \n",
        "\n",
        "  # Remover Moedas\n",
        "  frase = frase.replace(r'r$', '')\n",
        "  frase = frase.replace(r'us$', '')\n",
        "  frase = frase.replace(r'€', '')\n",
        "\n",
        "  # Remover Rodovias\n",
        "  frase = re.sub(r'\\b\\S{2}-\\d{3}\\b',\" \",frase)  \n",
        "  #frase = frase.replace(r'\\b\\S{2}-\\d{3}\\b', '')\n",
        "\n",
        "  # Remover Horarios\n",
        "  frase = re.sub(r'\\b\\d{1,2}h\\d{2}\\b',\" \",frase)  \n",
        "  frase = re.sub(r'\\b\\d{1,2}h\\b',\" \",frase)  \n",
        "\n",
        "  #Remover Números\n",
        "  frase = re.sub(r'\\d+',\" \",frase)  \n",
        "\n",
        "  #sequência de espaços\n",
        "  frase = re.sub(r'\\s+',\" \",frase) \n",
        "\n",
        "  # Remove caracteres especiais\n",
        "  #frase = frase.replace(r\"(http|@)\\S+\", \"\")\n",
        "  #frase = re.sub(\"(\\w+:\\/\\/\\S+)\",\"webpage \",frase)\n",
        "  #frase = emoji.demojize(frase)\n",
        "  #frase = frase.replace(r\"::\", \": :\")\n",
        "  #frase = frase.replace(r\"’\", \"'\")\n",
        "  #frase = frase.replace(r\"r$\", \"\")\n",
        "  #frase = frase.replace(r\"[^a-z\\':_]\", \" \")\n",
        "\n",
        "  # Remove repetições\n",
        "  repeat_pattern = re.compile(r'(.)\\1{2,}')\n",
        "  frase = repeat_pattern.sub(r'\\1', frase)\n",
        "\n",
        "  \n",
        "  # transformar emoticons em texto\n",
        "  #frase = token_emoticons(frase).lower()\n",
        "\n",
        "  # remove caracteres web \n",
        "  #frase = BeautifulSoup(unescape(frase), 'lxml').text\n",
        "\n",
        "  # remove caracteres especiais incluindo números\n",
        "  #frase = re.sub(\"(@[A-Za-z]+)|([^A-Za-z \\t])|(\\w+:\\/\\/\\S+)\",\" \",frase)\n",
        " \n",
        "   \n",
        "  # Remove espaços extras, palavras pequenas, stopwords e realiza o stemming\n",
        "  tokens = tokenizer.tokenize(frase)\n",
        "  #tokens = [stemmer.stem(palavra) for palavra in tokens if (len(palavra) >= 3 and palavra not in lista_stop)]\n",
        "  tokens = [stemmer.stem(palavra) for palavra in tokens if (palavra not in lista_stop)]   \n",
        "  frase = ' '.join(tokens) \n",
        "   \n",
        "  return frase\n"
      ],
      "execution_count": null,
      "outputs": []
    },
    {
      "cell_type": "code",
      "metadata": {
        "colab": {
          "base_uri": "https://localhost:8080/"
        },
        "id": "i6haR7hsnct3",
        "outputId": "e77640e4-ba33-44f8-9343-d7fba5f86ef2"
      },
      "source": [
        "#Métricas do tamanho dos textos antes da limpeza e tratamento\n",
        "tam_texto=[]\n",
        "for texto in df_twitter['texto']:\n",
        "    tam_texto.append(len(tokenizer.tokenize(texto)))\n",
        "print(\"Média do tamanho dos textos (em palavras): {0:.2f} \".format(statistics.mean(tam_texto)))\n",
        "print(\"Mediana do tamanho dos textos (em palavras): {0:.2f} \".format(statistics.median(tam_texto)))\n",
        "print(\"Desvio padrão do tamanho dos textos (em palavras): {0:.2f}\".format(statistics.stdev(tam_texto)))"
      ],
      "execution_count": null,
      "outputs": [
        {
          "output_type": "stream",
          "name": "stdout",
          "text": [
            "Média do tamanho dos textos (em palavras): 31.29 \n",
            "Mediana do tamanho dos textos (em palavras): 31.00 \n",
            "Desvio padrão do tamanho dos textos (em palavras): 6.83\n"
          ]
        }
      ]
    },
    {
      "cell_type": "markdown",
      "metadata": {
        "id": "ZyNWTtzUn3Xv"
      },
      "source": [
        "### Tratamento do texto e montagem do vocabulário"
      ]
    },
    {
      "cell_type": "code",
      "metadata": {
        "id": "xzO4psdRn9jl"
      },
      "source": [
        "#Faz a limpeza do texto\n",
        "vocabulario=set()\n",
        "df_twitter['texto'] = df_twitter['texto'].apply(trata_texto)\n",
        "\n",
        "#Monta vocabulário\n",
        "for texto in df_twitter['texto']:\n",
        "    vocabulario.update(set(tokenizer.tokenize(texto)))   "
      ],
      "execution_count": null,
      "outputs": []
    },
    {
      "cell_type": "markdown",
      "metadata": {
        "id": "Ho_7rushoUUI"
      },
      "source": [
        "### Como estão os dados depois do tratamento"
      ]
    },
    {
      "cell_type": "code",
      "metadata": {
        "colab": {
          "base_uri": "https://localhost:8080/"
        },
        "id": "dvpWWw8AoZpt",
        "outputId": "110f5220-9297-41d4-8c8e-0bd7367604bb"
      },
      "source": [
        "#Métricas do tamanho dos textos depois da limpeza e tratamento\n",
        "tam_texto=[]\n",
        "for texto in df_twitter['texto']:\n",
        "    tam_texto.append(len(tokenizer.tokenize(texto)))\n",
        "print(\"Média do tamanho dos textos (em palavras): {0:.2f} \".format(statistics.mean(tam_texto)))\n",
        "print(\"Mediana do tamanho dos textos (em palavras): {0:.2f} \".format(statistics.median(tam_texto)))\n",
        "print(\"Desvio padrão do tamanho dos textos (em palavras): {0:.2f}\".format(statistics.stdev(tam_texto)))"
      ],
      "execution_count": null,
      "outputs": [
        {
          "output_type": "stream",
          "name": "stdout",
          "text": [
            "Média do tamanho dos textos (em palavras): 18.41 \n",
            "Mediana do tamanho dos textos (em palavras): 18.00 \n",
            "Desvio padrão do tamanho dos textos (em palavras): 3.90\n"
          ]
        }
      ]
    },
    {
      "cell_type": "code",
      "metadata": {
        "id": "euBF3wBwotiw"
      },
      "source": [
        "# Salva os registros classificados\n",
        "df_twitter.to_csv('treino_limpo.csv', index=False, encoding=\"utf-8\", columns=['id','texto','classe'])"
      ],
      "execution_count": null,
      "outputs": []
    },
    {
      "cell_type": "markdown",
      "metadata": {
        "id": "Cj5OGDCAo2_Z"
      },
      "source": [
        "## Função para calcular as metricas do desafio\n"
      ]
    },
    {
      "cell_type": "code",
      "metadata": {
        "id": "AisD-M2qo9uQ"
      },
      "source": [
        "COLUNAS = [\n",
        "    'classificador',\n",
        "    'acuracia',\n",
        "    'precision',\n",
        "    'recall',\n",
        "    'f1-score'\n",
        "]\n",
        "\n",
        "df_resultados = pd.DataFrame(columns=COLUNAS)\n",
        "\n",
        "\n",
        "def guardarresultados(df_resultados, modelo, accuracy, precision, recall, f1):\n",
        "    df_resultados = df_resultados.append({'classificador': modelo, 'acuracia':accuracy, 'precision': precision, 'recall':recall, 'f1-score':f1}, ignore_index=True)\n",
        "    return df_resultados"
      ],
      "execution_count": null,
      "outputs": []
    },
    {
      "cell_type": "code",
      "metadata": {
        "id": "vZEmuOG4pHL_"
      },
      "source": [
        "def get_metrics(y_test, y_predicted):  \n",
        "    precision = round(precision_score(y_test, y_predicted, pos_label=1, average='macro'),4)             \n",
        "    recall = round(recall_score(y_test, y_predicted, pos_label=1, average='macro'),4)\n",
        "    f1 = round(f1_score(y_test, y_predicted, pos_label=1, average='macro'),4)\n",
        "    accuracy = round(accuracy_score(y_test, y_predicted),4)\n",
        "    return accuracy, precision, recall, f1"
      ],
      "execution_count": null,
      "outputs": []
    },
    {
      "cell_type": "markdown",
      "metadata": {
        "id": "EMDt4todpYlA"
      },
      "source": [
        "## Preparando massa de dados para os classificadores: \n",
        "* Separação em dados em treinamento e teste;\n",
        "* Criando vetorizador;\n",
        "* Toquenizando dados usando TF-IDF."
      ]
    },
    {
      "cell_type": "code",
      "metadata": {
        "colab": {
          "base_uri": "https://localhost:8080/"
        },
        "id": "H2ZKH1_OpWcZ",
        "outputId": "cdb11481-d315-4f2d-ed6c-0aaed19ee949"
      },
      "source": [
        "#Separa dados de treino / teste\n",
        "df_treino, df_teste = train_test_split(df_twitter, test_size=0.20, stratify=df_twitter['classe'], shuffle=True, random_state=random_state)\n",
        "print('Tamanho do Treino:',len(df_treino),'- Tamanho do Teste:',len(df_teste))"
      ],
      "execution_count": null,
      "outputs": [
        {
          "output_type": "stream",
          "name": "stdout",
          "text": [
            "Tamanho do Treino: 1360 - Tamanho do Teste: 340\n"
          ]
        }
      ]
    },
    {
      "cell_type": "code",
      "metadata": {
        "id": "EaUsfRD5pyKr"
      },
      "source": [
        "#Instancia o vetorizador TF*IDF\n",
        "vectorizer = TfidfVectorizer(ngram_range=(1, 1), vocabulary=vocabulario,sublinear_tf=True)"
      ],
      "execution_count": null,
      "outputs": []
    },
    {
      "cell_type": "code",
      "metadata": {
        "colab": {
          "base_uri": "https://localhost:8080/"
        },
        "id": "5ScRoMiYqoTE",
        "outputId": "b6d5b42e-c4e8-4686-e014-095ec97b1aa4"
      },
      "source": [
        "#Vetoriza TF-IDF os dataframes\n",
        "# Dataframe original\n",
        "X=vectorizer.fit_transform(df_twitter['texto'])\n",
        "y=df_twitter['classe']\n",
        "\n",
        "#Dataframes de treino e teste\n",
        "X_treino = vectorizer.fit_transform(df_treino['texto'])\n",
        "y_treino=df_treino['classe']\n",
        "\n",
        "X_teste= vectorizer.fit_transform(df_teste['texto'])\n",
        "y_teste =  df_teste['classe']\n",
        "\n",
        "#Imprime tipo e formato da matriz esparsa\n",
        "print(\"Matriz TF-IDF: \", type(X), X.shape)"
      ],
      "execution_count": null,
      "outputs": [
        {
          "output_type": "stream",
          "name": "stdout",
          "text": [
            "Matriz TF-IDF:  <class 'scipy.sparse.csr.csr_matrix'> (1700, 5711)\n"
          ]
        }
      ]
    },
    {
      "cell_type": "markdown",
      "metadata": {
        "id": "AlkzXNHHrMi2"
      },
      "source": [
        "#Criação das instâncias dos classificadores"
      ]
    },
    {
      "cell_type": "code",
      "metadata": {
        "id": "26VX00kSrSyU"
      },
      "source": [
        "#Classificadores testados / utilizados\n",
        "from sklearn.linear_model import LogisticRegression\n",
        "from sklearn.ensemble import RandomForestClassifier\n",
        "from sklearn.tree import DecisionTreeClassifier\n",
        "from sklearn.naive_bayes import MultinomialNB\n",
        "from sklearn.linear_model import SGDClassifier\n",
        "from sklearn.neural_network import MLPClassifier"
      ],
      "execution_count": null,
      "outputs": []
    },
    {
      "cell_type": "code",
      "metadata": {
        "id": "2XbWd3eErdRL"
      },
      "source": [
        "# Logistc Regression\n",
        "clf_LR = LogisticRegression(solver='lbfgs', multi_class='auto', class_weight='balanced', penalty='l2', C=2, random_state=random_state, tol=1e-5)\n",
        "\n",
        "# Ramdom Florest\n",
        "clf_RF = RandomForestClassifier(n_estimators=200, random_state=random_state)\n",
        "\n",
        "# Decision Tree\n",
        "clf_DT = DecisionTreeClassifier()\n",
        "\n",
        "# Naive Bayes\n",
        "clf_MNB = MultinomialNB(alpha=0.1)\n",
        "\n",
        "# Stochastic Gradient Descent\n",
        "clf_SGD = SGDClassifier(loss='modified_huber', penalty='l2', alpha=2e-3, random_state=random_state, max_iter=5, tol=None)\n",
        "\n",
        "# Multi-layer Perceptron\n",
        "clf_MLP= MLPClassifier(solver='lbfgs', alpha=1e-3, hidden_layer_sizes=(70, ), random_state=random_state)"
      ],
      "execution_count": null,
      "outputs": []
    },
    {
      "cell_type": "code",
      "metadata": {
        "id": "fS8mmVz6sGiV"
      },
      "source": [
        ""
      ],
      "execution_count": null,
      "outputs": []
    },
    {
      "cell_type": "code",
      "metadata": {
        "id": "oyIWW45S8dG0",
        "colab": {
          "base_uri": "https://localhost:8080/"
        },
        "outputId": "f53825f7-ca92-4ab8-9d59-7bcfcaeeae9b"
      },
      "source": [
        "#Roda o Logistic Regressor com validação cruzada 10 fold\n",
        "cv = StratifiedKFold(n_splits = 10, shuffle=True, random_state=random_state)\n",
        "results_LR = cross_validate(clf_LR, X_treino, y_treino, cv = cv, return_train_score=False, scoring='f1_macro')\n",
        "print(\"F1-macro: {0:.5f} +- {1:.5f}\".format( results_LR['test_score'].mean()* 100,results_LR['test_score'].std()* 100 ))"
      ],
      "execution_count": null,
      "outputs": [
        {
          "output_type": "stream",
          "name": "stdout",
          "text": [
            "F1-macro: 50.21799 +- 6.02574\n"
          ]
        }
      ]
    },
    {
      "cell_type": "code",
      "metadata": {
        "id": "L72jrWxo8sLB",
        "colab": {
          "base_uri": "https://localhost:8080/"
        },
        "outputId": "3d1ebef9-e935-4a30-d2ed-a5c447eb477e"
      },
      "source": [
        "#Roda o Ramdom Florest com validação cruzada 10 fold\n",
        "cv = StratifiedKFold(n_splits = 10, shuffle=True, random_state=random_state)\n",
        "results_RF = cross_validate(clf_RF, X_treino, y_treino, cv = cv, return_train_score=False, scoring='f1_macro')\n",
        "print(\"F1-macro: {0:.5f} +- {1:.5f}\".format( results_RF['test_score'].mean()* 100,results_RF['test_score'].std()* 100 ))"
      ],
      "execution_count": null,
      "outputs": [
        {
          "output_type": "stream",
          "name": "stdout",
          "text": [
            "F1-macro: 33.28623 +- 4.37088\n"
          ]
        }
      ]
    },
    {
      "cell_type": "code",
      "metadata": {
        "id": "BMKbI-198uzo",
        "colab": {
          "base_uri": "https://localhost:8080/"
        },
        "outputId": "d6705733-21d5-4327-8a57-169cc68b22db"
      },
      "source": [
        "#Roda o Decision Tree com validação cruzada 10 fold\n",
        "cv = StratifiedKFold(n_splits = 10, shuffle=True, random_state=random_state)\n",
        "results_DT = cross_validate(clf_DT, X_treino, y_treino, cv = cv, return_train_score=False, scoring='f1_macro')\n",
        "print(\"F1-macro: {0:.5f} +- {1:.5f}\".format( results_DT['test_score'].mean()* 100,results_DT['test_score'].std()* 100 ))"
      ],
      "execution_count": null,
      "outputs": [
        {
          "output_type": "stream",
          "name": "stdout",
          "text": [
            "F1-macro: 33.28335 +- 4.84580\n"
          ]
        }
      ]
    },
    {
      "cell_type": "code",
      "metadata": {
        "id": "IM9Wu9HW8waN",
        "colab": {
          "base_uri": "https://localhost:8080/"
        },
        "outputId": "edf95304-ca22-4c4c-b628-862760e5ccda"
      },
      "source": [
        "#Roda o Naive Bayes com validação cruzada 10 fold\n",
        "cv = StratifiedKFold(n_splits = 10, shuffle=True, random_state=random_state)\n",
        "results_MNB = cross_validate(clf_MNB, X_treino, y_treino, cv = cv, return_train_score=False, scoring='f1_macro')\n",
        "print(\"F1-macro: {0:.5f} +- {1:.5f}\".format( results_MNB['test_score'].mean()* 100,results_MNB['test_score'].std()* 100 ))"
      ],
      "execution_count": null,
      "outputs": [
        {
          "output_type": "stream",
          "name": "stdout",
          "text": [
            "F1-macro: 41.93086 +- 2.64399\n"
          ]
        }
      ]
    },
    {
      "cell_type": "code",
      "metadata": {
        "id": "U45K9vIZudMj",
        "colab": {
          "base_uri": "https://localhost:8080/"
        },
        "outputId": "fe1e3d8f-ac8e-4dff-c67b-3efc5cfc14d7"
      },
      "source": [
        "#Roda o SGD Classifier com validação cruzada 10 fold\n",
        "cv = StratifiedKFold(n_splits = 10, shuffle=True, random_state=random_state)\n",
        "results_SGD = cross_validate(clf_SGD, X_treino, y_treino, cv = cv, return_train_score=False, scoring='f1_macro')\n",
        "print(\"F1-macro: {0:.5f} +- {1:.5f}\".format( results_SGD['test_score'].mean()* 100,results_SGD['test_score'].std()* 100 ))"
      ],
      "execution_count": null,
      "outputs": [
        {
          "output_type": "stream",
          "name": "stdout",
          "text": [
            "F1-macro: 43.76567 +- 4.81811\n"
          ]
        }
      ]
    },
    {
      "cell_type": "code",
      "metadata": {
        "id": "t5-TSl7iudM0",
        "colab": {
          "base_uri": "https://localhost:8080/"
        },
        "outputId": "a8aaf03b-78cf-48b9-f243-56ae24c5125d"
      },
      "source": [
        "#Roda o MLP Classifier com validação cruzada 10 fold\n",
        "cv = StratifiedKFold(n_splits = 10, shuffle=True, random_state=random_state)\n",
        "results_MLP = cross_validate(clf_MLP, X_treino, y_treino, cv = cv, return_train_score=False,scoring='f1_macro')\n",
        "print(\"F1-macro: {0:.5f} +- {1:.5f}\".format( results_MLP['test_score'].mean()* 100,results_MLP['test_score'].std()* 100 ))"
      ],
      "execution_count": null,
      "outputs": [
        {
          "output_type": "stream",
          "name": "stdout",
          "text": [
            "F1-macro: 45.24534 +- 3.49601\n"
          ]
        }
      ]
    },
    {
      "cell_type": "code",
      "metadata": {
        "id": "HdPr61Gesska"
      },
      "source": [
        ""
      ],
      "execution_count": null,
      "outputs": []
    },
    {
      "cell_type": "markdown",
      "metadata": {
        "id": "thuu-Rrj-DGZ"
      },
      "source": [
        "### Buscando os melhores hiperparâmetros para o classificador (regressão logística)"
      ]
    },
    {
      "cell_type": "code",
      "metadata": {
        "id": "ymf9Ld2judNl",
        "colab": {
          "base_uri": "https://localhost:8080/"
        },
        "outputId": "2ef590a8-a378-4bd4-d0a6-6cf696cf4772"
      },
      "source": [
        "tuned_parameters = {\n",
        "    \"solver\" : ['lbfgs', 'liblinear'],\n",
        "    \"tol\" : uniform(1e-6, 1e-4),\n",
        "    \"C\" : uniform(0, 5),\n",
        "    \"intercept_scaling\" : uniform(0, 2)\n",
        "}\n",
        "modelo = RandomizedSearchCV(estimator=LogisticRegression(multi_class='auto', class_weight='balanced', penalty='l2', random_state=random_state),\n",
        "                    param_distributions=tuned_parameters,\n",
        "                    n_iter = 64,\n",
        "                    cv = cv,\n",
        "                    scoring='f1_macro',      \n",
        "                    random_state = random_state)\n",
        "modelo.fit(X_treino, y_treino)\n",
        "clf_Melhor= modelo.best_estimator_\n",
        "print(\"Melhor modelo para o classificador Logistic Regression: \",clf_Melhor)\n",
        "print(\"Melhor F1 score: \", modelo.best_score_*100)"
      ],
      "execution_count": null,
      "outputs": [
        {
          "output_type": "stream",
          "name": "stdout",
          "text": [
            "Melhor modelo para o classificador Logistic Regression:  LogisticRegression(C=0.652940877702351, class_weight='balanced',\n",
            "                   intercept_scaling=1.6798003458681157, random_state=5899,\n",
            "                   tol=9.277852512687244e-05)\n",
            "Melhor F1 score:  51.25740685834319\n"
          ]
        }
      ]
    },
    {
      "cell_type": "code",
      "metadata": {
        "id": "Iq5jysKludN6",
        "colab": {
          "base_uri": "https://localhost:8080/"
        },
        "outputId": "56be2c7e-1428-404b-aa99-9f87d6d259e4"
      },
      "source": [
        "#Roda o Logistic Regressor otimizado com o RandomSearch e validação cruzada 10 fold\n",
        "cv = StratifiedKFold(n_splits = 10, shuffle=True, random_state=random_state)\n",
        "MelhorResultado = cross_validate(clf_Melhor, X_treino, y_treino, cv = cv, return_train_score=False, scoring='f1_macro')\n",
        "print(\"F1-macro: {0:.5f} +- {1:.5f}\".format( MelhorResultado['test_score'].mean()* 100,MelhorResultado['test_score'].std()* 100 ))"
      ],
      "execution_count": null,
      "outputs": [
        {
          "output_type": "stream",
          "name": "stdout",
          "text": [
            "F1-macro: 51.25741 +- 3.77270\n"
          ]
        }
      ]
    },
    {
      "cell_type": "markdown",
      "metadata": {
        "id": "1LEQ0IYJudOO"
      },
      "source": [
        "## Roda e avalia os classificadores com a massa de dados de teste"
      ]
    },
    {
      "cell_type": "code",
      "metadata": {
        "id": "6Y9rOGse1jqJ",
        "colab": {
          "base_uri": "https://localhost:8080/"
        },
        "outputId": "e31347e2-ff1f-4710-914e-63fa2c9b1ec9"
      },
      "source": [
        "# Avalia a performance do classificador Random Florest, usando a massa reservada para testes\n",
        "f1=list()\n",
        "acuracia=list()\n",
        "clf_RF.fit(X_treino, y_treino)\n",
        "y_predicted = clf_RF.predict(X_teste)\n",
        "print(metrics.classification_report(y_teste.values,y_predicted,digits=4))\n",
        "f1.append(f1_score(y_teste, y_predicted, average='macro'))\n",
        "acuracia.append(accuracy_score(y_teste, y_predicted))"
      ],
      "execution_count": null,
      "outputs": [
        {
          "output_type": "stream",
          "name": "stdout",
          "text": [
            "              precision    recall  f1-score   support\n",
            "\n",
            "     alegria     0.0000    0.0000    0.0000        31\n",
            "    desgosto     0.6000    0.2000    0.3000        45\n",
            "        medo     0.5000    0.2105    0.2963        38\n",
            "      neutro     0.5030    0.9022    0.6459        92\n",
            "       raiva     0.0000    0.0000    0.0000        14\n",
            "    surpresa     0.5938    0.4419    0.5067        43\n",
            "    tristeza     0.5000    0.7143    0.5882        77\n",
            "\n",
            "    accuracy                         0.5118       340\n",
            "   macro avg     0.3853    0.3527    0.3339       340\n",
            "weighted avg     0.4597    0.5118    0.4449       340\n",
            "\n"
          ]
        }
      ]
    },
    {
      "cell_type": "code",
      "metadata": {
        "id": "2Pvb5Mjf2Aaa",
        "colab": {
          "base_uri": "https://localhost:8080/"
        },
        "outputId": "08b2f970-904a-4fca-c2d3-abe0d9eb913a"
      },
      "source": [
        "# Avalia a performance do classificador Decison Tree, usando a massa reservada para testes\n",
        "clf_DT.fit(X_treino, y_treino)\n",
        "y_predicted = clf_DT.predict(X_teste)\n",
        "print(metrics.classification_report(y_teste.values,y_predicted,digits=4))\n",
        "f1.append(f1_score(y_teste, y_predicted, average='macro'))\n",
        "acuracia.append(accuracy_score(y_teste, y_predicted))"
      ],
      "execution_count": null,
      "outputs": [
        {
          "output_type": "stream",
          "name": "stdout",
          "text": [
            "              precision    recall  f1-score   support\n",
            "\n",
            "     alegria     0.3000    0.1935    0.2353        31\n",
            "    desgosto     0.2500    0.2222    0.2353        45\n",
            "        medo     0.4815    0.3421    0.4000        38\n",
            "      neutro     0.5424    0.6957    0.6095        92\n",
            "       raiva     0.3571    0.3571    0.3571        14\n",
            "    surpresa     0.4706    0.3721    0.4156        43\n",
            "    tristeza     0.5172    0.5844    0.5488        77\n",
            "\n",
            "    accuracy                         0.4676       340\n",
            "   macro avg     0.4170    0.3953    0.4002       340\n",
            "weighted avg     0.4524    0.4676    0.4538       340\n",
            "\n"
          ]
        }
      ]
    },
    {
      "cell_type": "code",
      "metadata": {
        "id": "-kvkqBlI2NEX",
        "colab": {
          "base_uri": "https://localhost:8080/"
        },
        "outputId": "656b995d-f927-4249-818b-4e19d4b073cf"
      },
      "source": [
        "# Avalia a performance do classificador Naive Bayes, usando a massa reservada para testes\n",
        "clf_MNB.fit(X_treino, y_treino)\n",
        "y_predicted = clf_MNB.predict(X_teste)\n",
        "print(metrics.classification_report(y_teste.values,y_predicted,digits=4))\n",
        "f1.append(f1_score(y_teste, y_predicted, average='macro'))\n",
        "acuracia.append(accuracy_score(y_teste, y_predicted))"
      ],
      "execution_count": null,
      "outputs": [
        {
          "output_type": "stream",
          "name": "stdout",
          "text": [
            "              precision    recall  f1-score   support\n",
            "\n",
            "     alegria     0.3000    0.0968    0.1463        31\n",
            "    desgosto     0.5294    0.4000    0.4557        45\n",
            "        medo     0.5000    0.2895    0.3667        38\n",
            "      neutro     0.5854    0.7826    0.6698        92\n",
            "       raiva     0.5000    0.0714    0.1250        14\n",
            "    surpresa     0.5098    0.6047    0.5532        43\n",
            "    tristeza     0.5408    0.6883    0.6057        77\n",
            "\n",
            "    accuracy                         0.5412       340\n",
            "   macro avg     0.4951    0.4190    0.4175       340\n",
            "weighted avg     0.5192    0.5412    0.5082       340\n",
            "\n"
          ]
        }
      ]
    },
    {
      "cell_type": "code",
      "metadata": {
        "id": "sFPoe3j1udOT",
        "colab": {
          "base_uri": "https://localhost:8080/"
        },
        "outputId": "380ffdff-8582-470a-e5fe-43a6cb11c747"
      },
      "source": [
        "# Avalia a performance do classificador SGD, usando a massa reservada para testes\n",
        "clf_SGD.fit(X_treino, y_treino)\n",
        "y_predicted = clf_SGD.predict(X_teste)\n",
        "print(metrics.classification_report(y_teste.values,y_predicted,digits=4))\n",
        "f1.append(f1_score(y_teste, y_predicted, average='macro'))\n",
        "acuracia.append(accuracy_score(y_teste, y_predicted))"
      ],
      "execution_count": null,
      "outputs": [
        {
          "output_type": "stream",
          "name": "stdout",
          "text": [
            "              precision    recall  f1-score   support\n",
            "\n",
            "     alegria     0.5000    0.0968    0.1622        31\n",
            "    desgosto     0.4848    0.3556    0.4103        45\n",
            "        medo     0.4643    0.3421    0.3939        38\n",
            "      neutro     0.5342    0.8478    0.6555        92\n",
            "       raiva     0.5000    0.0714    0.1250        14\n",
            "    surpresa     0.5610    0.5349    0.5476        43\n",
            "    tristeza     0.6310    0.6883    0.6584        77\n",
            "\n",
            "    accuracy                         0.5500       340\n",
            "   macro avg     0.5250    0.4196    0.4218       340\n",
            "weighted avg     0.5406    0.5500    0.5140       340\n",
            "\n"
          ]
        }
      ]
    },
    {
      "cell_type": "code",
      "metadata": {
        "id": "uG0oU5MyudOm",
        "colab": {
          "base_uri": "https://localhost:8080/"
        },
        "outputId": "59e05dca-026c-445b-bff7-9de5de9c82f8"
      },
      "source": [
        "# Avalia a performance do classificador MLP, usando a massa reservada para testes\n",
        "clf_MLP.fit(X_treino, y_treino)\n",
        "y_predicted = clf_MLP.predict(X_teste)\n",
        "print(metrics.classification_report(y_teste.values,y_predicted,digits=4))\n",
        "f1.append(f1_score(y_teste, y_predicted, average='macro'))\n",
        "acuracia.append(accuracy_score(y_teste, y_predicted))"
      ],
      "execution_count": null,
      "outputs": [
        {
          "output_type": "stream",
          "name": "stdout",
          "text": [
            "              precision    recall  f1-score   support\n",
            "\n",
            "     alegria     0.4000    0.1290    0.1951        31\n",
            "    desgosto     0.5833    0.4667    0.5185        45\n",
            "        medo     0.4545    0.3947    0.4225        38\n",
            "      neutro     0.5820    0.7717    0.6636        92\n",
            "       raiva     0.4000    0.2857    0.3333        14\n",
            "    surpresa     0.4898    0.5581    0.5217        43\n",
            "    tristeza     0.6375    0.6623    0.6497        77\n",
            "\n",
            "    accuracy                         0.5588       340\n",
            "   macro avg     0.5067    0.4669    0.4721       340\n",
            "weighted avg     0.5447    0.5588    0.5400       340\n",
            "\n"
          ]
        }
      ]
    },
    {
      "cell_type": "code",
      "metadata": {
        "id": "_tsYZlhNudPL",
        "colab": {
          "base_uri": "https://localhost:8080/"
        },
        "outputId": "13296ccc-c521-4174-9e78-7024e54db495"
      },
      "source": [
        "# Avalia a performance do classificador LR, usando a massa reservada para testes\n",
        "clf_LR.fit(X_treino, y_treino)\n",
        "y_predicted = clf_LR.predict(X_teste)\n",
        "print(metrics.classification_report(y_teste.values,y_predicted,digits=4))\n",
        "f1.append(f1_score(y_teste, y_predicted, average='macro'))\n",
        "acuracia.append(accuracy_score(y_teste, y_predicted))"
      ],
      "execution_count": null,
      "outputs": [
        {
          "output_type": "stream",
          "name": "stdout",
          "text": [
            "              precision    recall  f1-score   support\n",
            "\n",
            "     alegria     0.3333    0.2581    0.2909        31\n",
            "    desgosto     0.5250    0.4667    0.4941        45\n",
            "        medo     0.4545    0.3947    0.4225        38\n",
            "      neutro     0.6161    0.7500    0.6765        92\n",
            "       raiva     0.4286    0.4286    0.4286        14\n",
            "    surpresa     0.5185    0.6512    0.5773        43\n",
            "    tristeza     0.6984    0.5714    0.6286        77\n",
            "\n",
            "    accuracy                         0.5618       340\n",
            "   macro avg     0.5106    0.5029    0.5026       340\n",
            "weighted avg     0.5588    0.5618    0.5552       340\n",
            "\n"
          ]
        }
      ]
    },
    {
      "cell_type": "code",
      "metadata": {
        "id": "phXI4YQTudPf",
        "colab": {
          "base_uri": "https://localhost:8080/"
        },
        "outputId": "52560494-6030-4423-c5c9-33e6f953bd83"
      },
      "source": [
        "# Avalia a performance do classificador LR otimizado com RandomSearch, usando a massa reservada para testes\n",
        "clf_Melhor.fit(X_treino, y_treino)\n",
        "y_predicted = clf_Melhor.predict(X_teste)\n",
        "print(metrics.classification_report(y_teste.values,y_predicted, digits=4))\n",
        "f1.append(f1_score(y_teste, y_predicted, average='macro'))\n",
        "acuracia.append(accuracy_score(y_teste, y_predicted))"
      ],
      "execution_count": null,
      "outputs": [
        {
          "output_type": "stream",
          "name": "stdout",
          "text": [
            "              precision    recall  f1-score   support\n",
            "\n",
            "     alegria     0.3000    0.2903    0.2951        31\n",
            "    desgosto     0.5263    0.4444    0.4819        45\n",
            "        medo     0.4571    0.4211    0.4384        38\n",
            "      neutro     0.6182    0.7391    0.6733        92\n",
            "       raiva     0.3077    0.5714    0.4000        14\n",
            "    surpresa     0.5306    0.6047    0.5652        43\n",
            "    tristeza     0.7500    0.5065    0.6047        77\n",
            "\n",
            "    accuracy                         0.5471       340\n",
            "   macro avg     0.4986    0.5111    0.4941       340\n",
            "weighted avg     0.5650    0.5471    0.5467       340\n",
            "\n"
          ]
        }
      ]
    },
    {
      "cell_type": "code",
      "metadata": {
        "id": "w2gY5euRvNcZ"
      },
      "source": [
        "#Imprime o valor no gráfico de barras\n",
        "def autolabel(rects):\n",
        "\n",
        "    for rect in rects:\n",
        "        height = rect.get_height()\n",
        "        plt.annotate('{0:.4f}'.format(height),\n",
        "                    xy=(rect.get_x() + rect.get_width() / 2, height),\n",
        "                    xytext=(0, 3),  # 3 points vertical offset\n",
        "                    textcoords=\"offset points\",\n",
        "                    ha='center', va='bottom')"
      ],
      "execution_count": null,
      "outputs": []
    },
    {
      "cell_type": "code",
      "metadata": {
        "colab": {
          "base_uri": "https://localhost:8080/",
          "height": 295
        },
        "id": "aTr9eonmvUaK",
        "outputId": "1497e50f-28ad-4b18-b96f-1bb5c45eead9"
      },
      "source": [
        "#Imprime o gráfico de barras da acuracia\n",
        "classificadores = ['RF', 'DT', 'MNB','SGD', 'MLP', 'LR', 'LR-Melhor']\n",
        "barra= plt.bar(classificadores, acuracia, color=\"orange\")\n",
        "autolabel(barra)\n",
        "plt.xticks(classificadores)\n",
        "plt.ylabel('Acurácia')\n",
        "plt.xlabel('Classificador')\n",
        "plt.ylim(.4,.63)\n",
        "plt.title('Acurácia dos classificadores com dados de teste')\n",
        "plt.show()"
      ],
      "execution_count": null,
      "outputs": [
        {
          "output_type": "display_data",
          "data": {
            "image/png": "[encoded data removed]",
            "text/plain": [
              "<Figure size 432x288 with 1 Axes>"
            ]
          },
          "metadata": {
            "needs_background": "light"
          }
        }
      ]
    },
    {
      "cell_type": "code",
      "metadata": {
        "colab": {
          "base_uri": "https://localhost:8080/",
          "height": 295
        },
        "id": "ekYClVv0vfdN",
        "outputId": "39452a89-36bc-408d-b546-508e4f4b36fb"
      },
      "source": [
        "#Imprime o gráfico de barras do F1-macro\n",
        "barra=plt.bar(classificadores, f1, color=\"blue\")\n",
        "autolabel(barra)\n",
        "plt.xticks(classificadores)\n",
        "plt.ylabel('F1-macro')\n",
        "plt.xlabel('Classificador')\n",
        "plt.ylim(.3,.56)\n",
        "plt.title('F1-score macro dos classificadores com dados de teste')\n",
        "plt.show()"
      ],
      "execution_count": null,
      "outputs": [
        {
          "output_type": "display_data",
          "data": {
            "image/png": "[encoded data removed]",
            "text/plain": [
              "<Figure size 432x288 with 1 Axes>"
            ]
          },
          "metadata": {
            "needs_background": "light"
          }
        }
      ]
    },
    {
      "cell_type": "code",
      "metadata": {
        "id": "7DHU_ah2wFOE"
      },
      "source": [
        ""
      ],
      "execution_count": null,
      "outputs": []
    },
    {
      "cell_type": "markdown",
      "metadata": {
        "id": "cJ6vKDqZr_Y4"
      },
      "source": [
        "## Verificando F1 - Score para dados de teste"
      ]
    },
    {
      "cell_type": "code",
      "metadata": {
        "id": "u3vh-fYLsOMX"
      },
      "source": [
        "#Abre dataset de predição\n",
        "df_class_final=pd.read_csv('desafio-pln_teste-com-classe.csv')"
      ],
      "execution_count": null,
      "outputs": []
    },
    {
      "cell_type": "code",
      "metadata": {
        "id": "4Gsv_BLC3FPo",
        "colab": {
          "base_uri": "https://localhost:8080/",
          "height": 406
        },
        "outputId": "f2fc453e-d6cd-4807-91c6-06943ef06510"
      },
      "source": [
        "fig, ax = plt.subplots(figsize=(14,6))\n",
        "sns.countplot(x=\"classe\", ax=ax, data=df_twitter, order = df_twitter['classe'].value_counts().index)"
      ],
      "execution_count": null,
      "outputs": [
        {
          "output_type": "execute_result",
          "data": {
            "text/plain": [
              "<matplotlib.axes._subplots.AxesSubplot at 0x7f3e93dbfa50>"
            ]
          },
          "metadata": {},
          "execution_count": 47
        },
        {
          "output_type": "display_data",
          "data": {
            "image/png": "[encoded data removed]",
            "text/plain": [
              "<Figure size 1008x432 with 1 Axes>"
            ]
          },
          "metadata": {
            "needs_background": "light"
          }
        }
      ]
    },
    {
      "cell_type": "code",
      "metadata": {
        "id": "3x_LKiIm3r3R",
        "colab": {
          "base_uri": "https://localhost:8080/",
          "height": 406
        },
        "outputId": "753d7fa6-c467-454a-c9f1-e31aadd6052d"
      },
      "source": [
        "fig, ax = plt.subplots(figsize=(14,6))\n",
        "sns.countplot(x=\"classe\", ax=ax, data=df_class_final, order = df_class_final['classe'].value_counts().index)"
      ],
      "execution_count": null,
      "outputs": [
        {
          "output_type": "execute_result",
          "data": {
            "text/plain": [
              "<matplotlib.axes._subplots.AxesSubplot at 0x7f3e93d27490>"
            ]
          },
          "metadata": {},
          "execution_count": 48
        },
        {
          "output_type": "display_data",
          "data": {
            "image/png": "[encoded data removed]",
            "text/plain": [
              "<Figure size 1008x432 with 1 Axes>"
            ]
          },
          "metadata": {
            "needs_background": "light"
          }
        }
      ]
    },
    {
      "cell_type": "code",
      "metadata": {
        "id": "sNgy_USb8W0d",
        "colab": {
          "base_uri": "https://localhost:8080/"
        },
        "outputId": "d3c2d11b-eae5-4817-a307-046381728fd4"
      },
      "source": [
        "print(\"Percentual de participação nos dados originais\")\n",
        "print((df_twitter.classe.value_counts()/df_twitter.shape[0])*100)"
      ],
      "execution_count": null,
      "outputs": [
        {
          "output_type": "stream",
          "name": "stdout",
          "text": [
            "Percentual de participação nos dados originais\n",
            "neutro      27.117647\n",
            "tristeza    22.764706\n",
            "desgosto    13.117647\n",
            "surpresa    12.588235\n",
            "medo        11.117647\n",
            "alegria      9.176471\n",
            "raiva        4.117647\n",
            "Name: classe, dtype: float64\n"
          ]
        }
      ]
    },
    {
      "cell_type": "code",
      "metadata": {
        "id": "coZSXqza8ZAr",
        "colab": {
          "base_uri": "https://localhost:8080/"
        },
        "outputId": "46f14725-400c-42e8-bc4b-e6853a8f8ec3"
      },
      "source": [
        "print(\"Percentual de participação nos dados do desafio\")\n",
        "print((df_class_final.classe.value_counts()/df_class_final.shape[0])*100)"
      ],
      "execution_count": null,
      "outputs": [
        {
          "output_type": "stream",
          "name": "stdout",
          "text": [
            "Percentual de participação nos dados do desafio\n",
            "neutro      27.000000\n",
            "tristeza    22.666667\n",
            "desgosto    13.000000\n",
            "surpresa    12.666667\n",
            "medo        11.000000\n",
            "alegria      9.333333\n",
            "raiva        4.333333\n",
            "Name: classe, dtype: float64\n"
          ]
        }
      ]
    },
    {
      "cell_type": "code",
      "metadata": {
        "id": "dFGilXQ2sN3_",
        "colab": {
          "base_uri": "https://localhost:8080/"
        },
        "outputId": "61d90a07-86a7-4f95-9619-7da2b334888a"
      },
      "source": [
        "#Limpa o texto\n",
        "df_class_final['texto'] = df_class_final['texto'].apply(trata_texto)\n",
        "\n",
        "#Monta vocabulário completo\n",
        "for texto in df_class_final['texto']:\n",
        "    vocabulario.update(set(tokenizer.tokenize(texto)))  \n",
        "#Tamanho e exemplo do vocabulário\n",
        "print(len(vocabulario))"
      ],
      "execution_count": null,
      "outputs": [
        {
          "output_type": "stream",
          "name": "stdout",
          "text": [
            "6111\n"
          ]
        }
      ]
    },
    {
      "cell_type": "code",
      "metadata": {
        "id": "s7xKIrMPsnxC",
        "colab": {
          "base_uri": "https://localhost:8080/"
        },
        "outputId": "a2085aab-a5af-4572-b873-b1fc0430ceda"
      },
      "source": [
        "#Métricas do tamanho dos textos depois da limpeza e tratamento\n",
        "tam_texto=[]\n",
        "for texto in df_class_final['texto']:\n",
        "    tam_texto.append(len(tokenizer.tokenize(texto)))\n",
        "print(\"Média do tamanho dos textos (em palavras): {0:.2f} \".format(statistics.mean(tam_texto)))\n",
        "print(\"Mediana do tamanho dos textos (em palavras): {0:.2f} \".format(statistics.median(tam_texto)))\n",
        "print(\"Desvio padrão do tamanho dos textos (em palavras): {0:.2f}\".format(statistics.stdev(tam_texto)))"
      ],
      "execution_count": null,
      "outputs": [
        {
          "output_type": "stream",
          "name": "stdout",
          "text": [
            "Média do tamanho dos textos (em palavras): 18.23 \n",
            "Mediana do tamanho dos textos (em palavras): 18.00 \n",
            "Desvio padrão do tamanho dos textos (em palavras): 3.63\n"
          ]
        }
      ]
    },
    {
      "cell_type": "code",
      "metadata": {
        "id": "JTViz6R_stts"
      },
      "source": [
        "#Instancia o vetorizador TF*IDF, agora com o novo vocabulário\n",
        "vectorizer = TfidfVectorizer(ngram_range=(1, 1), vocabulary=vocabulario,sublinear_tf=True)\n",
        "#Vetoriza TF-IDF os dataframes completos e a classificar\n",
        "X=vectorizer.fit_transform(df_twitter['texto'])\n",
        "y=df_twitter['classe']\n",
        "X_final = vectorizer.fit_transform(df_class_final['texto'])\n",
        "y_final = df_class_final['classe']"
      ],
      "execution_count": null,
      "outputs": []
    },
    {
      "cell_type": "markdown",
      "metadata": {
        "id": "aNb1rOw4xhx3"
      },
      "source": [
        "### Agora vamos ver os resultados dos classificadores usando o arquivo de desafio"
      ]
    },
    {
      "cell_type": "code",
      "metadata": {
        "id": "vmQMXd3--HgT",
        "colab": {
          "base_uri": "https://localhost:8080/"
        },
        "outputId": "741381ce-ee28-492c-a473-38821814e990"
      },
      "source": [
        "#Retreina com a base completa usando RF\n",
        "clf_RF.fit(X, y)"
      ],
      "execution_count": null,
      "outputs": [
        {
          "output_type": "execute_result",
          "data": {
            "text/plain": [
              "RandomForestClassifier(n_estimators=200, random_state=5899)"
            ]
          },
          "metadata": {},
          "execution_count": 54
        }
      ]
    },
    {
      "cell_type": "code",
      "metadata": {
        "id": "qN3McH86-Hgl",
        "colab": {
          "base_uri": "https://localhost:8080/"
        },
        "outputId": "68723d77-6f57-4611-a9ad-35951060355f"
      },
      "source": [
        "#Realiza a previsão do dataset final\n",
        "y_predicted = clf_RF.predict(X_final)\n",
        "print(metrics.classification_report(y_final,y_predicted,digits=4))\n"
      ],
      "execution_count": null,
      "outputs": [
        {
          "output_type": "stream",
          "name": "stdout",
          "text": [
            "              precision    recall  f1-score   support\n",
            "\n",
            "     alegria     0.6000    0.1071    0.1818        28\n",
            "    desgosto     0.4783    0.2821    0.3548        39\n",
            "        medo     0.6154    0.2424    0.3478        33\n",
            "      neutro     0.5504    0.8765    0.6762        81\n",
            "       raiva     0.0000    0.0000    0.0000        13\n",
            "    surpresa     0.5862    0.4474    0.5075        38\n",
            "    tristeza     0.5400    0.7941    0.6429        68\n",
            "\n",
            "    accuracy                         0.5467       300\n",
            "   macro avg     0.4815    0.3928    0.3873       300\n",
            "weighted avg     0.5311    0.5467    0.4939       300\n",
            "\n"
          ]
        }
      ]
    },
    {
      "cell_type": "code",
      "metadata": {
        "id": "7-Fc84hl-Hgv"
      },
      "source": [
        "acuracia, precisao, recuperacao, f1Score = get_metrics(y_final, y_predicted)\n",
        "df_resultados = guardarresultados(df_resultados, 'RF', acuracia, precisao, recuperacao, f1Score)"
      ],
      "execution_count": null,
      "outputs": []
    },
    {
      "cell_type": "code",
      "metadata": {
        "id": "6rm2P7Ds-sfp",
        "colab": {
          "base_uri": "https://localhost:8080/"
        },
        "outputId": "43f53ec9-842d-4144-c603-f7f4d6dfb00b"
      },
      "source": [
        "#Retreina com a base completa usando DT\n",
        "clf_DT.fit(X, y)"
      ],
      "execution_count": null,
      "outputs": [
        {
          "output_type": "execute_result",
          "data": {
            "text/plain": [
              "DecisionTreeClassifier()"
            ]
          },
          "metadata": {},
          "execution_count": 57
        }
      ]
    },
    {
      "cell_type": "code",
      "metadata": {
        "id": "p2HeXAA2-sf0",
        "colab": {
          "base_uri": "https://localhost:8080/"
        },
        "outputId": "17c7f2e3-714b-4f3a-861d-0d155c7fbd5d"
      },
      "source": [
        "#Realiza a previsão do dataset final\n",
        "y_predicted = clf_DT.predict(X_final)\n",
        "print(metrics.classification_report(y_final,y_predicted,digits=4))\n"
      ],
      "execution_count": null,
      "outputs": [
        {
          "output_type": "stream",
          "name": "stdout",
          "text": [
            "              precision    recall  f1-score   support\n",
            "\n",
            "     alegria     0.2632    0.1786    0.2128        28\n",
            "    desgosto     0.2400    0.3077    0.2697        39\n",
            "        medo     0.3750    0.1818    0.2449        33\n",
            "      neutro     0.5667    0.6296    0.5965        81\n",
            "       raiva     0.2857    0.1538    0.2000        13\n",
            "    surpresa     0.3111    0.3684    0.3373        38\n",
            "    tristeza     0.4932    0.5294    0.5106        68\n",
            "\n",
            "    accuracy                         0.4200       300\n",
            "   macro avg     0.3621    0.3356    0.3388       300\n",
            "weighted avg     0.4136    0.4200    0.4100       300\n",
            "\n"
          ]
        }
      ]
    },
    {
      "cell_type": "code",
      "metadata": {
        "id": "0A18lTam-sf9"
      },
      "source": [
        "acuracia, precisao, recuperacao, f1Score = get_metrics(y_final, y_predicted)\n",
        "df_resultados = guardarresultados(df_resultados, 'DT', acuracia, precisao, recuperacao, f1Score)"
      ],
      "execution_count": null,
      "outputs": []
    },
    {
      "cell_type": "code",
      "metadata": {
        "id": "MqEw2yW7_HQB",
        "colab": {
          "base_uri": "https://localhost:8080/"
        },
        "outputId": "b2f9e029-9f74-4a9f-ee50-944e02eb5687"
      },
      "source": [
        "#Retreina com a base completa usando MNB\n",
        "clf_MNB.fit(X, y)"
      ],
      "execution_count": null,
      "outputs": [
        {
          "output_type": "execute_result",
          "data": {
            "text/plain": [
              "MultinomialNB(alpha=0.1)"
            ]
          },
          "metadata": {},
          "execution_count": 60
        }
      ]
    },
    {
      "cell_type": "code",
      "metadata": {
        "id": "aGWJULd4_HQK",
        "colab": {
          "base_uri": "https://localhost:8080/"
        },
        "outputId": "9603ae8b-c01d-4fef-c264-7a6288273cc8"
      },
      "source": [
        "#Realiza a previsão do dataset final\n",
        "y_predicted = clf_MNB.predict(X_final)\n",
        "print(metrics.classification_report(y_final,y_predicted,digits=4))\n"
      ],
      "execution_count": null,
      "outputs": [
        {
          "output_type": "stream",
          "name": "stdout",
          "text": [
            "              precision    recall  f1-score   support\n",
            "\n",
            "     alegria     0.3333    0.1071    0.1622        28\n",
            "    desgosto     0.5161    0.4103    0.4571        39\n",
            "        medo     0.5625    0.2727    0.3673        33\n",
            "      neutro     0.6400    0.7901    0.7072        81\n",
            "       raiva     0.0000    0.0000    0.0000        13\n",
            "    surpresa     0.4706    0.4211    0.4444        38\n",
            "    tristeza     0.4818    0.7794    0.5955        68\n",
            "\n",
            "    accuracy                         0.5367       300\n",
            "   macro avg     0.4292    0.3972    0.3905       300\n",
            "weighted avg     0.5017    0.5367    0.4972       300\n",
            "\n"
          ]
        },
        {
          "output_type": "stream",
          "name": "stderr",
          "text": [
            "/usr/local/lib/python3.7/dist-packages/sklearn/metrics/_classification.py:1308: UndefinedMetricWarning: Precision and F-score are ill-defined and being set to 0.0 in labels with no predicted samples. Use `zero_division` parameter to control this behavior.\n",
            "  _warn_prf(average, modifier, msg_start, len(result))\n",
            "/usr/local/lib/python3.7/dist-packages/sklearn/metrics/_classification.py:1308: UndefinedMetricWarning: Precision and F-score are ill-defined and being set to 0.0 in labels with no predicted samples. Use `zero_division` parameter to control this behavior.\n",
            "  _warn_prf(average, modifier, msg_start, len(result))\n",
            "/usr/local/lib/python3.7/dist-packages/sklearn/metrics/_classification.py:1308: UndefinedMetricWarning: Precision and F-score are ill-defined and being set to 0.0 in labels with no predicted samples. Use `zero_division` parameter to control this behavior.\n",
            "  _warn_prf(average, modifier, msg_start, len(result))\n"
          ]
        }
      ]
    },
    {
      "cell_type": "code",
      "metadata": {
        "id": "SzphUoCD_HQS",
        "colab": {
          "base_uri": "https://localhost:8080/"
        },
        "outputId": "53bec480-d733-4b8a-af53-ed73174c4477"
      },
      "source": [
        "acuracia, precisao, recuperacao, f1Score = get_metrics(y_final, y_predicted)\n",
        "df_resultados = guardarresultados(df_resultados, 'MNB', acuracia, precisao, recuperacao, f1Score)"
      ],
      "execution_count": null,
      "outputs": [
        {
          "output_type": "stream",
          "name": "stderr",
          "text": [
            "/usr/local/lib/python3.7/dist-packages/sklearn/metrics/_classification.py:1308: UndefinedMetricWarning: Precision is ill-defined and being set to 0.0 in labels with no predicted samples. Use `zero_division` parameter to control this behavior.\n",
            "  _warn_prf(average, modifier, msg_start, len(result))\n"
          ]
        }
      ]
    },
    {
      "cell_type": "code",
      "metadata": {
        "id": "dlPHWpqe_IF_",
        "colab": {
          "base_uri": "https://localhost:8080/"
        },
        "outputId": "692fc370-bd7d-412f-f958-bcb050524b62"
      },
      "source": [
        "#Retreina com a base completa usando SGD\n",
        "clf_SGD.fit(X, y)"
      ],
      "execution_count": null,
      "outputs": [
        {
          "output_type": "execute_result",
          "data": {
            "text/plain": [
              "SGDClassifier(alpha=0.002, loss='modified_huber', max_iter=5, random_state=5899,\n",
              "              tol=None)"
            ]
          },
          "metadata": {},
          "execution_count": 63
        }
      ]
    },
    {
      "cell_type": "code",
      "metadata": {
        "id": "pBDHVw-s_IGL",
        "colab": {
          "base_uri": "https://localhost:8080/"
        },
        "outputId": "c8b9cb4c-5880-4925-818a-ce807d48d9fc"
      },
      "source": [
        "#Realiza a previsão do dataset final\n",
        "y_predicted = clf_SGD.predict(X_final)\n",
        "print(metrics.classification_report(y_final,y_predicted,digits=4))\n"
      ],
      "execution_count": null,
      "outputs": [
        {
          "output_type": "stream",
          "name": "stdout",
          "text": [
            "              precision    recall  f1-score   support\n",
            "\n",
            "     alegria     0.2500    0.0714    0.1111        28\n",
            "    desgosto     0.5185    0.3590    0.4242        39\n",
            "        medo     0.6000    0.3636    0.4528        33\n",
            "      neutro     0.5820    0.8765    0.6995        81\n",
            "       raiva     0.3333    0.0769    0.1250        13\n",
            "    surpresa     0.5946    0.5789    0.5867        38\n",
            "    tristeza     0.6145    0.7500    0.6755        68\n",
            "\n",
            "    accuracy                         0.5767       300\n",
            "   macro avg     0.4990    0.4395    0.4393       300\n",
            "weighted avg     0.5429    0.5767    0.5370       300\n",
            "\n"
          ]
        }
      ]
    },
    {
      "cell_type": "code",
      "metadata": {
        "id": "vcqmhpbk_IGT"
      },
      "source": [
        "acuracia, precisao, recuperacao, f1Score = get_metrics(y_final, y_predicted)\n",
        "df_resultados = guardarresultados(df_resultados, 'SGD', acuracia, precisao, recuperacao, f1Score)"
      ],
      "execution_count": null,
      "outputs": []
    },
    {
      "cell_type": "code",
      "metadata": {
        "id": "Lfs4sMRm_mt6",
        "colab": {
          "base_uri": "https://localhost:8080/"
        },
        "outputId": "e5a8d95f-3f88-48cf-debf-7db7877f06ab"
      },
      "source": [
        "#Retreina com a base completa usando SGD\n",
        "clf_MLP.fit(X, y)"
      ],
      "execution_count": null,
      "outputs": [
        {
          "output_type": "execute_result",
          "data": {
            "text/plain": [
              "MLPClassifier(alpha=0.001, hidden_layer_sizes=(70,), random_state=5899,\n",
              "              solver='lbfgs')"
            ]
          },
          "metadata": {},
          "execution_count": 66
        }
      ]
    },
    {
      "cell_type": "code",
      "metadata": {
        "id": "sEwbYf29_muI",
        "colab": {
          "base_uri": "https://localhost:8080/"
        },
        "outputId": "f95b8c8b-e2ad-45c9-be0b-13d881937484"
      },
      "source": [
        "#Realiza a previsão do dataset final\n",
        "y_predicted = clf_MLP.predict(X_final)\n",
        "print(metrics.classification_report(y_final,y_predicted,digits=4))\n"
      ],
      "execution_count": null,
      "outputs": [
        {
          "output_type": "stream",
          "name": "stdout",
          "text": [
            "              precision    recall  f1-score   support\n",
            "\n",
            "     alegria     0.2857    0.1429    0.1905        28\n",
            "    desgosto     0.4865    0.4615    0.4737        39\n",
            "        medo     0.4242    0.4242    0.4242        33\n",
            "      neutro     0.6327    0.7654    0.6927        81\n",
            "       raiva     0.2727    0.2308    0.2500        13\n",
            "    surpresa     0.6129    0.5000    0.5507        38\n",
            "    tristeza     0.6316    0.7059    0.6667        68\n",
            "\n",
            "    accuracy                         0.5600       300\n",
            "   macro avg     0.4780    0.4615    0.4641       300\n",
            "weighted avg     0.5400    0.5600    0.5448       300\n",
            "\n"
          ]
        }
      ]
    },
    {
      "cell_type": "code",
      "metadata": {
        "id": "gAmiqbzo_muQ"
      },
      "source": [
        "acuracia, precisao, recuperacao, f1Score = get_metrics(y_final, y_predicted)\n",
        "df_resultados = guardarresultados(df_resultados, 'MLP', acuracia, precisao, recuperacao, f1Score)"
      ],
      "execution_count": null,
      "outputs": []
    },
    {
      "cell_type": "code",
      "metadata": {
        "id": "8vHlvj982TOE",
        "colab": {
          "base_uri": "https://localhost:8080/"
        },
        "outputId": "6fd8968f-e80a-4489-8efe-fa8a35701f25"
      },
      "source": [
        "#Retreina com a base completa usando LR\n",
        "clf_LR.fit(X, y)"
      ],
      "execution_count": null,
      "outputs": [
        {
          "output_type": "execute_result",
          "data": {
            "text/plain": [
              "LogisticRegression(C=2, class_weight='balanced', random_state=5899, tol=1e-05)"
            ]
          },
          "metadata": {},
          "execution_count": 69
        }
      ]
    },
    {
      "cell_type": "code",
      "metadata": {
        "id": "IC39LRdv2ah2",
        "colab": {
          "base_uri": "https://localhost:8080/"
        },
        "outputId": "9d9a48e2-5301-419b-cb74-511799277be7"
      },
      "source": [
        "#Realiza a previsão do dataset final\n",
        "y_predicted = clf_LR.predict(X_final)\n",
        "print(metrics.classification_report(y_final,y_predicted,digits=4))\n"
      ],
      "execution_count": null,
      "outputs": [
        {
          "output_type": "stream",
          "name": "stdout",
          "text": [
            "              precision    recall  f1-score   support\n",
            "\n",
            "     alegria     0.2800    0.2500    0.2642        28\n",
            "    desgosto     0.4359    0.4359    0.4359        39\n",
            "        medo     0.5517    0.4848    0.5161        33\n",
            "      neutro     0.6742    0.7407    0.7059        81\n",
            "       raiva     0.4118    0.5385    0.4667        13\n",
            "    surpresa     0.5500    0.5789    0.5641        38\n",
            "    tristeza     0.7213    0.6471    0.6822        68\n",
            "\n",
            "    accuracy                         0.5767       300\n",
            "   macro avg     0.5178    0.5251    0.5193       300\n",
            "weighted avg     0.5765    0.5767    0.5750       300\n",
            "\n"
          ]
        }
      ]
    },
    {
      "cell_type": "code",
      "metadata": {
        "id": "z3RVskKm9tmc"
      },
      "source": [
        "acuracia, precisao, recuperacao, f1Score = get_metrics(y_final, y_predicted)\n",
        "df_resultados = guardarresultados(df_resultados, 'LR', acuracia, precisao, recuperacao, f1Score)"
      ],
      "execution_count": null,
      "outputs": []
    },
    {
      "cell_type": "code",
      "metadata": {
        "id": "PiFMoGHws5jb",
        "colab": {
          "base_uri": "https://localhost:8080/"
        },
        "outputId": "58fdefd7-46e2-43c6-b73f-2bfd56c76f74"
      },
      "source": [
        "#Retreina com a base completa usando LR Otimizado\n",
        "clf_Melhor.fit(X, y)"
      ],
      "execution_count": null,
      "outputs": [
        {
          "output_type": "execute_result",
          "data": {
            "text/plain": [
              "LogisticRegression(C=0.652940877702351, class_weight='balanced',\n",
              "                   intercept_scaling=1.6798003458681157, random_state=5899,\n",
              "                   tol=9.277852512687244e-05)"
            ]
          },
          "metadata": {},
          "execution_count": 72
        }
      ]
    },
    {
      "cell_type": "code",
      "metadata": {
        "id": "u7ejDoU2tBkg",
        "colab": {
          "base_uri": "https://localhost:8080/"
        },
        "outputId": "f91d33b5-b6fc-4fc7-9200-31377058a454"
      },
      "source": [
        "#Realiza a previsão do dataset final\n",
        "y_predicted = clf_Melhor.predict(X_final)\n",
        "print(metrics.classification_report(y_final,y_predicted,digits=4))\n"
      ],
      "execution_count": null,
      "outputs": [
        {
          "output_type": "stream",
          "name": "stdout",
          "text": [
            "              precision    recall  f1-score   support\n",
            "\n",
            "     alegria     0.3462    0.3214    0.3333        28\n",
            "    desgosto     0.4857    0.4359    0.4595        39\n",
            "        medo     0.5862    0.5152    0.5484        33\n",
            "      neutro     0.6739    0.7654    0.7168        81\n",
            "       raiva     0.4737    0.6923    0.5625        13\n",
            "    surpresa     0.6216    0.6053    0.6133        38\n",
            "    tristeza     0.7419    0.6765    0.7077        68\n",
            "\n",
            "    accuracy                         0.6100       300\n",
            "   macro avg     0.5613    0.5731    0.5631       300\n",
            "weighted avg     0.6093    0.6100    0.6072       300\n",
            "\n"
          ]
        }
      ]
    },
    {
      "cell_type": "code",
      "metadata": {
        "id": "MGLF8lQn1aMP"
      },
      "source": [
        "acuracia, precisao, recuperacao, f1Score = get_metrics(y_final, y_predicted)\n",
        "df_resultados = guardarresultados(df_resultados, 'LR Otimizado', acuracia, precisao, recuperacao, f1Score)\n"
      ],
      "execution_count": null,
      "outputs": []
    },
    {
      "cell_type": "code",
      "metadata": {
        "id": "P8yUBTP-943Z",
        "colab": {
          "base_uri": "https://localhost:8080/",
          "height": 265
        },
        "outputId": "6588f0cb-3864-4a88-a432-0e767fbd1fb3"
      },
      "source": [
        "df_resultados.head(10)\n"
      ],
      "execution_count": null,
      "outputs": [
        {
          "output_type": "execute_result",
          "data": {
            "text/html": [
              "<div>\n",
              "<style scoped>\n",
              "    .dataframe tbody tr th:only-of-type {\n",
              "        vertical-align: middle;\n",
              "    }\n",
              "\n",
              "    .dataframe tbody tr th {\n",
              "        vertical-align: top;\n",
              "    }\n",
              "\n",
              "    .dataframe thead th {\n",
              "        text-align: right;\n",
              "    }\n",
              "</style>\n",
              "<table border=\"1\" class=\"dataframe\">\n",
              "  <thead>\n",
              "    <tr style=\"text-align: right;\">\n",
              "      <th></th>\n",
              "      <th>classificador</th>\n",
              "      <th>acuracia</th>\n",
              "      <th>precision</th>\n",
              "      <th>recall</th>\n",
              "      <th>f1-score</th>\n",
              "    </tr>\n",
              "  </thead>\n",
              "  <tbody>\n",
              "    <tr>\n",
              "      <th>0</th>\n",
              "      <td>RF</td>\n",
              "      <td>0.5467</td>\n",
              "      <td>0.4815</td>\n",
              "      <td>0.3928</td>\n",
              "      <td>0.3873</td>\n",
              "    </tr>\n",
              "    <tr>\n",
              "      <th>1</th>\n",
              "      <td>DT</td>\n",
              "      <td>0.4200</td>\n",
              "      <td>0.3621</td>\n",
              "      <td>0.3356</td>\n",
              "      <td>0.3388</td>\n",
              "    </tr>\n",
              "    <tr>\n",
              "      <th>2</th>\n",
              "      <td>MNB</td>\n",
              "      <td>0.5367</td>\n",
              "      <td>0.4292</td>\n",
              "      <td>0.3972</td>\n",
              "      <td>0.3905</td>\n",
              "    </tr>\n",
              "    <tr>\n",
              "      <th>3</th>\n",
              "      <td>SGD</td>\n",
              "      <td>0.5767</td>\n",
              "      <td>0.4990</td>\n",
              "      <td>0.4395</td>\n",
              "      <td>0.4393</td>\n",
              "    </tr>\n",
              "    <tr>\n",
              "      <th>4</th>\n",
              "      <td>MLP</td>\n",
              "      <td>0.5600</td>\n",
              "      <td>0.4780</td>\n",
              "      <td>0.4615</td>\n",
              "      <td>0.4641</td>\n",
              "    </tr>\n",
              "    <tr>\n",
              "      <th>5</th>\n",
              "      <td>LR</td>\n",
              "      <td>0.5767</td>\n",
              "      <td>0.5178</td>\n",
              "      <td>0.5251</td>\n",
              "      <td>0.5193</td>\n",
              "    </tr>\n",
              "    <tr>\n",
              "      <th>6</th>\n",
              "      <td>LR Otimizado</td>\n",
              "      <td>0.6100</td>\n",
              "      <td>0.5613</td>\n",
              "      <td>0.5731</td>\n",
              "      <td>0.5631</td>\n",
              "    </tr>\n",
              "  </tbody>\n",
              "</table>\n",
              "</div>"
            ],
            "text/plain": [
              "  classificador  acuracia  precision  recall  f1-score\n",
              "0            RF    0.5467     0.4815  0.3928    0.3873\n",
              "1            DT    0.4200     0.3621  0.3356    0.3388\n",
              "2           MNB    0.5367     0.4292  0.3972    0.3905\n",
              "3           SGD    0.5767     0.4990  0.4395    0.4393\n",
              "4           MLP    0.5600     0.4780  0.4615    0.4641\n",
              "5            LR    0.5767     0.5178  0.5251    0.5193\n",
              "6  LR Otimizado    0.6100     0.5613  0.5731    0.5631"
            ]
          },
          "metadata": {},
          "execution_count": 75
        }
      ]
    },
    {
      "cell_type": "markdown",
      "metadata": {
        "id": "SpqBOE0GtQmf"
      },
      "source": [
        ""
      ]
    },
    {
      "cell_type": "code",
      "metadata": {
        "id": "ZC7057KoZToP"
      },
      "source": [
        ""
      ],
      "execution_count": null,
      "outputs": []
    }
  ]
}