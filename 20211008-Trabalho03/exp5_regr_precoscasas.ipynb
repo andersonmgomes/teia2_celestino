{
 "cells": [
  {
   "cell_type": "markdown",
   "metadata": {},
   "source": [
    "# Comparando SVM com outros algoritmos (Regressão - Preços Casas)"
   ]
  },
  {
   "cell_type": "code",
   "execution_count": 1,
   "metadata": {},
   "outputs": [
    {
     "data": {
      "text/html": [
       "<div>\n",
       "<style scoped>\n",
       "    .dataframe tbody tr th:only-of-type {\n",
       "        vertical-align: middle;\n",
       "    }\n",
       "\n",
       "    .dataframe tbody tr th {\n",
       "        vertical-align: top;\n",
       "    }\n",
       "\n",
       "    .dataframe thead th {\n",
       "        text-align: right;\n",
       "    }\n",
       "</style>\n",
       "<table border=\"1\" class=\"dataframe\">\n",
       "  <thead>\n",
       "    <tr style=\"text-align: right;\">\n",
       "      <th></th>\n",
       "      <th>Avg. Area Income</th>\n",
       "      <th>Avg. Area House Age</th>\n",
       "      <th>Avg. Area Number of Rooms</th>\n",
       "      <th>Avg. Area Number of Bedrooms</th>\n",
       "      <th>Area Population</th>\n",
       "      <th>Price</th>\n",
       "      <th>Address</th>\n",
       "    </tr>\n",
       "  </thead>\n",
       "  <tbody>\n",
       "    <tr>\n",
       "      <th>0</th>\n",
       "      <td>79545.458574</td>\n",
       "      <td>5.682861</td>\n",
       "      <td>7.009188</td>\n",
       "      <td>4.09</td>\n",
       "      <td>23086.800503</td>\n",
       "      <td>1.059034e+06</td>\n",
       "      <td>208 Michael Ferry Apt. 674\\nLaurabury, NE 3701...</td>\n",
       "    </tr>\n",
       "    <tr>\n",
       "      <th>1</th>\n",
       "      <td>79248.642455</td>\n",
       "      <td>6.002900</td>\n",
       "      <td>6.730821</td>\n",
       "      <td>3.09</td>\n",
       "      <td>40173.072174</td>\n",
       "      <td>1.505891e+06</td>\n",
       "      <td>188 Johnson Views Suite 079\\nLake Kathleen, CA...</td>\n",
       "    </tr>\n",
       "    <tr>\n",
       "      <th>2</th>\n",
       "      <td>61287.067179</td>\n",
       "      <td>5.865890</td>\n",
       "      <td>8.512727</td>\n",
       "      <td>5.13</td>\n",
       "      <td>36882.159400</td>\n",
       "      <td>1.058988e+06</td>\n",
       "      <td>9127 Elizabeth Stravenue\\nDanieltown, WI 06482...</td>\n",
       "    </tr>\n",
       "    <tr>\n",
       "      <th>3</th>\n",
       "      <td>63345.240046</td>\n",
       "      <td>7.188236</td>\n",
       "      <td>5.586729</td>\n",
       "      <td>3.26</td>\n",
       "      <td>34310.242831</td>\n",
       "      <td>1.260617e+06</td>\n",
       "      <td>USS Barnett\\nFPO AP 44820</td>\n",
       "    </tr>\n",
       "    <tr>\n",
       "      <th>4</th>\n",
       "      <td>59982.197226</td>\n",
       "      <td>5.040555</td>\n",
       "      <td>7.839388</td>\n",
       "      <td>4.23</td>\n",
       "      <td>26354.109472</td>\n",
       "      <td>6.309435e+05</td>\n",
       "      <td>USNS Raymond\\nFPO AE 09386</td>\n",
       "    </tr>\n",
       "  </tbody>\n",
       "</table>\n",
       "</div>"
      ],
      "text/plain": [
       "   Avg. Area Income  Avg. Area House Age  Avg. Area Number of Rooms  \\\n",
       "0      79545.458574             5.682861                   7.009188   \n",
       "1      79248.642455             6.002900                   6.730821   \n",
       "2      61287.067179             5.865890                   8.512727   \n",
       "3      63345.240046             7.188236                   5.586729   \n",
       "4      59982.197226             5.040555                   7.839388   \n",
       "\n",
       "   Avg. Area Number of Bedrooms  Area Population         Price  \\\n",
       "0                          4.09     23086.800503  1.059034e+06   \n",
       "1                          3.09     40173.072174  1.505891e+06   \n",
       "2                          5.13     36882.159400  1.058988e+06   \n",
       "3                          3.26     34310.242831  1.260617e+06   \n",
       "4                          4.23     26354.109472  6.309435e+05   \n",
       "\n",
       "                                             Address  \n",
       "0  208 Michael Ferry Apt. 674\\nLaurabury, NE 3701...  \n",
       "1  188 Johnson Views Suite 079\\nLake Kathleen, CA...  \n",
       "2  9127 Elizabeth Stravenue\\nDanieltown, WI 06482...  \n",
       "3                          USS Barnett\\nFPO AP 44820  \n",
       "4                         USNS Raymond\\nFPO AE 09386  "
      ]
     },
     "execution_count": 1,
     "metadata": {},
     "output_type": "execute_result"
    }
   ],
   "source": [
    "import trab03_utils as util\n",
    "\n",
    "ds_dadosbrutos = util.getDSPriceHousing()\n",
    "ds_dadosbrutos.head()"
   ]
  },
  {
   "cell_type": "code",
   "execution_count": 2,
   "metadata": {},
   "outputs": [
    {
     "data": {
      "text/html": [
       "<div>\n",
       "<style scoped>\n",
       "    .dataframe tbody tr th:only-of-type {\n",
       "        vertical-align: middle;\n",
       "    }\n",
       "\n",
       "    .dataframe tbody tr th {\n",
       "        vertical-align: top;\n",
       "    }\n",
       "\n",
       "    .dataframe thead th {\n",
       "        text-align: right;\n",
       "    }\n",
       "</style>\n",
       "<table border=\"1\" class=\"dataframe\">\n",
       "  <thead>\n",
       "    <tr style=\"text-align: right;\">\n",
       "      <th></th>\n",
       "      <th>algorithm</th>\n",
       "      <th>features</th>\n",
       "      <th>n_features</th>\n",
       "      <th>train_time</th>\n",
       "      <th>mem_max</th>\n",
       "      <th>r2</th>\n",
       "      <th>neg_mean_absolute_error</th>\n",
       "      <th>neg_mean_squared_error</th>\n",
       "    </tr>\n",
       "  </thead>\n",
       "  <tbody>\n",
       "    <tr>\n",
       "      <th>0</th>\n",
       "      <td>LinearRegression</td>\n",
       "      <td>(Avg. Area Income, Avg. Area House Age, Avg. A...</td>\n",
       "      <td>4</td>\n",
       "      <td>3.635493</td>\n",
       "      <td>192.222656</td>\n",
       "      <td>0.923135</td>\n",
       "      <td>-0.033069</td>\n",
       "      <td>-0.001662</td>\n",
       "    </tr>\n",
       "    <tr>\n",
       "      <th>1</th>\n",
       "      <td>LinearRegression</td>\n",
       "      <td>(Avg. Area Income, Avg. Area House Age, Avg. A...</td>\n",
       "      <td>5</td>\n",
       "      <td>3.025283</td>\n",
       "      <td>192.242188</td>\n",
       "      <td>0.922984</td>\n",
       "      <td>-0.033118</td>\n",
       "      <td>-0.001665</td>\n",
       "    </tr>\n",
       "    <tr>\n",
       "      <th>2</th>\n",
       "      <td>SVR</td>\n",
       "      <td>(Avg. Area Income, Avg. Area House Age, Avg. A...</td>\n",
       "      <td>4</td>\n",
       "      <td>2.243964</td>\n",
       "      <td>195.398438</td>\n",
       "      <td>0.867819</td>\n",
       "      <td>-0.040915</td>\n",
       "      <td>-0.002887</td>\n",
       "    </tr>\n",
       "    <tr>\n",
       "      <th>3</th>\n",
       "      <td>SVR</td>\n",
       "      <td>(Avg. Area Income, Avg. Area House Age, Avg. A...</td>\n",
       "      <td>5</td>\n",
       "      <td>2.183558</td>\n",
       "      <td>195.710938</td>\n",
       "      <td>0.864186</td>\n",
       "      <td>-0.042672</td>\n",
       "      <td>-0.002954</td>\n",
       "    </tr>\n",
       "    <tr>\n",
       "      <th>4</th>\n",
       "      <td>KNeighborsRegressor</td>\n",
       "      <td>(Avg. Area Income, Avg. Area House Age, Avg. A...</td>\n",
       "      <td>4</td>\n",
       "      <td>1.988533</td>\n",
       "      <td>194.480469</td>\n",
       "      <td>0.863334</td>\n",
       "      <td>-0.043200</td>\n",
       "      <td>-0.002967</td>\n",
       "    </tr>\n",
       "    <tr>\n",
       "      <th>5</th>\n",
       "      <td>LinearRegression</td>\n",
       "      <td>(Avg. Area Income, Avg. Area House Age, Avg. A...</td>\n",
       "      <td>4</td>\n",
       "      <td>3.613806</td>\n",
       "      <td>192.398438</td>\n",
       "      <td>0.833811</td>\n",
       "      <td>-0.047328</td>\n",
       "      <td>-0.003607</td>\n",
       "    </tr>\n",
       "    <tr>\n",
       "      <th>6</th>\n",
       "      <td>KNeighborsRegressor</td>\n",
       "      <td>(Avg. Area Income, Avg. Area House Age, Avg. A...</td>\n",
       "      <td>5</td>\n",
       "      <td>2.339380</td>\n",
       "      <td>194.746094</td>\n",
       "      <td>0.819317</td>\n",
       "      <td>-0.049846</td>\n",
       "      <td>-0.003932</td>\n",
       "    </tr>\n",
       "    <tr>\n",
       "      <th>7</th>\n",
       "      <td>SVR</td>\n",
       "      <td>(Avg. Area Income, Avg. Area House Age, Avg. A...</td>\n",
       "      <td>4</td>\n",
       "      <td>1.321730</td>\n",
       "      <td>199.402344</td>\n",
       "      <td>0.803286</td>\n",
       "      <td>-0.052022</td>\n",
       "      <td>-0.004272</td>\n",
       "    </tr>\n",
       "    <tr>\n",
       "      <th>8</th>\n",
       "      <td>LinearRegression</td>\n",
       "      <td>(Avg. Area Income, Avg. Area House Age, Avg. A...</td>\n",
       "      <td>4</td>\n",
       "      <td>2.942811</td>\n",
       "      <td>192.027344</td>\n",
       "      <td>0.750280</td>\n",
       "      <td>-0.059015</td>\n",
       "      <td>-0.005416</td>\n",
       "    </tr>\n",
       "    <tr>\n",
       "      <th>9</th>\n",
       "      <td>KNeighborsRegressor</td>\n",
       "      <td>(Avg. Area Income, Avg. Area House Age, Avg. A...</td>\n",
       "      <td>4</td>\n",
       "      <td>2.106921</td>\n",
       "      <td>194.593750</td>\n",
       "      <td>0.741512</td>\n",
       "      <td>-0.059664</td>\n",
       "      <td>-0.005614</td>\n",
       "    </tr>\n",
       "  </tbody>\n",
       "</table>\n",
       "</div>"
      ],
      "text/plain": [
       "             algorithm                                           features  \\\n",
       "0     LinearRegression  (Avg. Area Income, Avg. Area House Age, Avg. A...   \n",
       "1     LinearRegression  (Avg. Area Income, Avg. Area House Age, Avg. A...   \n",
       "2                  SVR  (Avg. Area Income, Avg. Area House Age, Avg. A...   \n",
       "3                  SVR  (Avg. Area Income, Avg. Area House Age, Avg. A...   \n",
       "4  KNeighborsRegressor  (Avg. Area Income, Avg. Area House Age, Avg. A...   \n",
       "5     LinearRegression  (Avg. Area Income, Avg. Area House Age, Avg. A...   \n",
       "6  KNeighborsRegressor  (Avg. Area Income, Avg. Area House Age, Avg. A...   \n",
       "7                  SVR  (Avg. Area Income, Avg. Area House Age, Avg. A...   \n",
       "8     LinearRegression  (Avg. Area Income, Avg. Area House Age, Avg. A...   \n",
       "9  KNeighborsRegressor  (Avg. Area Income, Avg. Area House Age, Avg. A...   \n",
       "\n",
       "  n_features  train_time     mem_max        r2  neg_mean_absolute_error  \\\n",
       "0          4    3.635493  192.222656  0.923135                -0.033069   \n",
       "1          5    3.025283  192.242188  0.922984                -0.033118   \n",
       "2          4    2.243964  195.398438  0.867819                -0.040915   \n",
       "3          5    2.183558  195.710938  0.864186                -0.042672   \n",
       "4          4    1.988533  194.480469  0.863334                -0.043200   \n",
       "5          4    3.613806  192.398438  0.833811                -0.047328   \n",
       "6          5    2.339380  194.746094  0.819317                -0.049846   \n",
       "7          4    1.321730  199.402344  0.803286                -0.052022   \n",
       "8          4    2.942811  192.027344  0.750280                -0.059015   \n",
       "9          4    2.106921  194.593750  0.741512                -0.059664   \n",
       "\n",
       "   neg_mean_squared_error  \n",
       "0               -0.001662  \n",
       "1               -0.001665  \n",
       "2               -0.002887  \n",
       "3               -0.002954  \n",
       "4               -0.002967  \n",
       "5               -0.003607  \n",
       "6               -0.003932  \n",
       "7               -0.004272  \n",
       "8               -0.005416  \n",
       "9               -0.005614  "
      ]
     },
     "execution_count": 2,
     "metadata": {},
     "output_type": "execute_result"
    }
   ],
   "source": [
    "import autoML\n",
    "\n",
    "automl = autoML.AutoML(ds_dadosbrutos, 'Price'\n",
    "                             , min_x_y_correlation_rate=0.1\n",
    "                             , n_features_threshold=0.75)\n",
    "\n",
    "dfResults = automl.getResults()\n",
    "dfResults.head(10)"
   ]
  },
  {
   "cell_type": "code",
   "execution_count": 3,
   "metadata": {},
   "outputs": [
    {
     "data": {
      "text/html": [
       "<div>\n",
       "<style scoped>\n",
       "    .dataframe tbody tr th:only-of-type {\n",
       "        vertical-align: middle;\n",
       "    }\n",
       "\n",
       "    .dataframe tbody tr th {\n",
       "        vertical-align: top;\n",
       "    }\n",
       "\n",
       "    .dataframe thead th {\n",
       "        text-align: right;\n",
       "    }\n",
       "</style>\n",
       "<table border=\"1\" class=\"dataframe\">\n",
       "  <thead>\n",
       "    <tr style=\"text-align: right;\">\n",
       "      <th></th>\n",
       "      <th>train_time</th>\n",
       "      <th>mem_max</th>\n",
       "      <th>r2</th>\n",
       "      <th>neg_mean_absolute_error</th>\n",
       "      <th>neg_mean_squared_error</th>\n",
       "    </tr>\n",
       "    <tr>\n",
       "      <th>algorithm</th>\n",
       "      <th></th>\n",
       "      <th></th>\n",
       "      <th></th>\n",
       "      <th></th>\n",
       "      <th></th>\n",
       "    </tr>\n",
       "  </thead>\n",
       "  <tbody>\n",
       "    <tr>\n",
       "      <th>LinearRegression</th>\n",
       "      <td>3.484428</td>\n",
       "      <td>192.291667</td>\n",
       "      <td>0.771019</td>\n",
       "      <td>-0.053380</td>\n",
       "      <td>-0.004964</td>\n",
       "    </tr>\n",
       "    <tr>\n",
       "      <th>SVR</th>\n",
       "      <td>1.751158</td>\n",
       "      <td>202.186849</td>\n",
       "      <td>0.722552</td>\n",
       "      <td>-0.059440</td>\n",
       "      <td>-0.006034</td>\n",
       "    </tr>\n",
       "    <tr>\n",
       "      <th>KNeighborsRegressor</th>\n",
       "      <td>2.246106</td>\n",
       "      <td>194.664714</td>\n",
       "      <td>0.673620</td>\n",
       "      <td>-0.065353</td>\n",
       "      <td>-0.007096</td>\n",
       "    </tr>\n",
       "    <tr>\n",
       "      <th>DecisionTreeRegressor</th>\n",
       "      <td>1.946380</td>\n",
       "      <td>194.248698</td>\n",
       "      <td>0.429521</td>\n",
       "      <td>-0.084868</td>\n",
       "      <td>-0.012517</td>\n",
       "    </tr>\n",
       "  </tbody>\n",
       "</table>\n",
       "</div>"
      ],
      "text/plain": [
       "                       train_time     mem_max        r2  \\\n",
       "algorithm                                                 \n",
       "LinearRegression         3.484428  192.291667  0.771019   \n",
       "SVR                      1.751158  202.186849  0.722552   \n",
       "KNeighborsRegressor      2.246106  194.664714  0.673620   \n",
       "DecisionTreeRegressor    1.946380  194.248698  0.429521   \n",
       "\n",
       "                       neg_mean_absolute_error  neg_mean_squared_error  \n",
       "algorithm                                                               \n",
       "LinearRegression                     -0.053380               -0.004964  \n",
       "SVR                                  -0.059440               -0.006034  \n",
       "KNeighborsRegressor                  -0.065353               -0.007096  \n",
       "DecisionTreeRegressor                -0.084868               -0.012517  "
      ]
     },
     "execution_count": 3,
     "metadata": {},
     "output_type": "execute_result"
    }
   ],
   "source": [
    "dfGroupBy_algorithm = dfResults.groupby('algorithm').mean().sort_values('r2', ascending=False)\n",
    "dfGroupBy_algorithm"
   ]
  },
  {
   "cell_type": "code",
   "execution_count": 4,
   "metadata": {},
   "outputs": [
    {
     "data": {
      "image/png": "[encoded data removed]",
      "text/plain": [
       "<Figure size 432x288 with 1 Axes>"
      ]
     },
     "metadata": {
      "needs_background": "light"
     },
     "output_type": "display_data"
    }
   ],
   "source": [
    "dfGroupBy_algorithm['train_time'].plot.bar();"
   ]
  },
  {
   "cell_type": "code",
   "execution_count": 5,
   "metadata": {},
   "outputs": [
    {
     "data": {
      "image/png": "[encoded data removed]",
      "text/plain": [
       "<Figure size 432x288 with 1 Axes>"
      ]
     },
     "metadata": {
      "needs_background": "light"
     },
     "output_type": "display_data"
    }
   ],
   "source": [
    "dfGroupBy_algorithm['mem_max'].plot.bar();"
   ]
  },
  {
   "cell_type": "code",
   "execution_count": 6,
   "metadata": {},
   "outputs": [
    {
     "data": {
      "image/png": "[encoded data removed]",
      "text/plain": [
       "<Figure size 432x288 with 1 Axes>"
      ]
     },
     "metadata": {
      "needs_background": "light"
     },
     "output_type": "display_data"
    }
   ],
   "source": [
    "dfGroupBy_algorithm['r2'].plot.bar();"
   ]
  },
  {
   "cell_type": "code",
   "execution_count": 7,
   "metadata": {},
   "outputs": [
    {
     "data": {
      "image/png": "[encoded data removed]",
      "text/plain": [
       "<Figure size 432x288 with 1 Axes>"
      ]
     },
     "metadata": {
      "needs_background": "light"
     },
     "output_type": "display_data"
    }
   ],
   "source": [
    "dfGroupBy_algorithm['neg_mean_absolute_error'].plot.bar();"
   ]
  },
  {
   "cell_type": "code",
   "execution_count": 8,
   "metadata": {},
   "outputs": [
    {
     "data": {
      "image/png": "[encoded data removed]",
      "text/plain": [
       "<Figure size 432x288 with 1 Axes>"
      ]
     },
     "metadata": {
      "needs_background": "light"
     },
     "output_type": "display_data"
    }
   ],
   "source": [
    "dfGroupBy_algorithm['neg_mean_squared_error'].plot.bar();"
   ]
  }
 ],
 "metadata": {
  "interpreter": {
   "hash": "c4b62fceddc06dd276b407a252c1a463ef87e47b1a1840188fdb674abd87f8b3"
  },
  "kernelspec": {
   "display_name": "Python 3.9.1 64-bit",
   "name": "python3"
  },
  "language_info": {
   "codemirror_mode": {
    "name": "ipython",
    "version": 3
   },
   "file_extension": ".py",
   "mimetype": "text/x-python",
   "name": "python",
   "nbconvert_exporter": "python",
   "pygments_lexer": "ipython3",
   "version": "3.9.1"
  },
  "orig_nbformat": 4
 },
 "nbformat": 4,
 "nbformat_minor": 2
}
