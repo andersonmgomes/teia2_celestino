{
 "cells": [
  {
   "cell_type": "markdown",
   "metadata": {},
   "source": [
    "# Comparando SVM com outros algoritmos (Regressão - Qualidade Vinhos)"
   ]
  },
  {
   "cell_type": "code",
   "execution_count": 1,
   "metadata": {},
   "outputs": [
    {
     "data": {
      "text/html": [
       "<div>\n",
       "<style scoped>\n",
       "    .dataframe tbody tr th:only-of-type {\n",
       "        vertical-align: middle;\n",
       "    }\n",
       "\n",
       "    .dataframe tbody tr th {\n",
       "        vertical-align: top;\n",
       "    }\n",
       "\n",
       "    .dataframe thead th {\n",
       "        text-align: right;\n",
       "    }\n",
       "</style>\n",
       "<table border=\"1\" class=\"dataframe\">\n",
       "  <thead>\n",
       "    <tr style=\"text-align: right;\">\n",
       "      <th></th>\n",
       "      <th>fixed acidity</th>\n",
       "      <th>volatile acidity</th>\n",
       "      <th>citric acid</th>\n",
       "      <th>residual sugar</th>\n",
       "      <th>chlorides</th>\n",
       "      <th>free sulfur dioxide</th>\n",
       "      <th>total sulfur dioxide</th>\n",
       "      <th>density</th>\n",
       "      <th>pH</th>\n",
       "      <th>sulphates</th>\n",
       "      <th>alcohol</th>\n",
       "      <th>quality</th>\n",
       "    </tr>\n",
       "  </thead>\n",
       "  <tbody>\n",
       "    <tr>\n",
       "      <th>0</th>\n",
       "      <td>7.4</td>\n",
       "      <td>0.70</td>\n",
       "      <td>0.00</td>\n",
       "      <td>1.9</td>\n",
       "      <td>0.076</td>\n",
       "      <td>11.0</td>\n",
       "      <td>34.0</td>\n",
       "      <td>0.9978</td>\n",
       "      <td>3.51</td>\n",
       "      <td>0.56</td>\n",
       "      <td>9.4</td>\n",
       "      <td>5</td>\n",
       "    </tr>\n",
       "    <tr>\n",
       "      <th>1</th>\n",
       "      <td>7.8</td>\n",
       "      <td>0.88</td>\n",
       "      <td>0.00</td>\n",
       "      <td>2.6</td>\n",
       "      <td>0.098</td>\n",
       "      <td>25.0</td>\n",
       "      <td>67.0</td>\n",
       "      <td>0.9968</td>\n",
       "      <td>3.20</td>\n",
       "      <td>0.68</td>\n",
       "      <td>9.8</td>\n",
       "      <td>5</td>\n",
       "    </tr>\n",
       "    <tr>\n",
       "      <th>2</th>\n",
       "      <td>7.8</td>\n",
       "      <td>0.76</td>\n",
       "      <td>0.04</td>\n",
       "      <td>2.3</td>\n",
       "      <td>0.092</td>\n",
       "      <td>15.0</td>\n",
       "      <td>54.0</td>\n",
       "      <td>0.9970</td>\n",
       "      <td>3.26</td>\n",
       "      <td>0.65</td>\n",
       "      <td>9.8</td>\n",
       "      <td>5</td>\n",
       "    </tr>\n",
       "    <tr>\n",
       "      <th>3</th>\n",
       "      <td>11.2</td>\n",
       "      <td>0.28</td>\n",
       "      <td>0.56</td>\n",
       "      <td>1.9</td>\n",
       "      <td>0.075</td>\n",
       "      <td>17.0</td>\n",
       "      <td>60.0</td>\n",
       "      <td>0.9980</td>\n",
       "      <td>3.16</td>\n",
       "      <td>0.58</td>\n",
       "      <td>9.8</td>\n",
       "      <td>6</td>\n",
       "    </tr>\n",
       "    <tr>\n",
       "      <th>4</th>\n",
       "      <td>7.4</td>\n",
       "      <td>0.70</td>\n",
       "      <td>0.00</td>\n",
       "      <td>1.9</td>\n",
       "      <td>0.076</td>\n",
       "      <td>11.0</td>\n",
       "      <td>34.0</td>\n",
       "      <td>0.9978</td>\n",
       "      <td>3.51</td>\n",
       "      <td>0.56</td>\n",
       "      <td>9.4</td>\n",
       "      <td>5</td>\n",
       "    </tr>\n",
       "  </tbody>\n",
       "</table>\n",
       "</div>"
      ],
      "text/plain": [
       "   fixed acidity  volatile acidity  citric acid  residual sugar  chlorides  \\\n",
       "0            7.4              0.70         0.00             1.9      0.076   \n",
       "1            7.8              0.88         0.00             2.6      0.098   \n",
       "2            7.8              0.76         0.04             2.3      0.092   \n",
       "3           11.2              0.28         0.56             1.9      0.075   \n",
       "4            7.4              0.70         0.00             1.9      0.076   \n",
       "\n",
       "   free sulfur dioxide  total sulfur dioxide  density    pH  sulphates  \\\n",
       "0                 11.0                  34.0   0.9978  3.51       0.56   \n",
       "1                 25.0                  67.0   0.9968  3.20       0.68   \n",
       "2                 15.0                  54.0   0.9970  3.26       0.65   \n",
       "3                 17.0                  60.0   0.9980  3.16       0.58   \n",
       "4                 11.0                  34.0   0.9978  3.51       0.56   \n",
       "\n",
       "   alcohol  quality  \n",
       "0      9.4        5  \n",
       "1      9.8        5  \n",
       "2      9.8        5  \n",
       "3      9.8        6  \n",
       "4      9.4        5  "
      ]
     },
     "execution_count": 1,
     "metadata": {},
     "output_type": "execute_result"
    }
   ],
   "source": [
    "import trab03_utils as util\n",
    "\n",
    "ds_dadosbrutos = util.getDSWine_RED()\n",
    "ds_dadosbrutos.head()"
   ]
  },
  {
   "cell_type": "code",
   "execution_count": 13,
   "metadata": {},
   "outputs": [
    {
     "data": {
      "text/html": [
       "<div>\n",
       "<style scoped>\n",
       "    .dataframe tbody tr th:only-of-type {\n",
       "        vertical-align: middle;\n",
       "    }\n",
       "\n",
       "    .dataframe tbody tr th {\n",
       "        vertical-align: top;\n",
       "    }\n",
       "\n",
       "    .dataframe thead th {\n",
       "        text-align: right;\n",
       "    }\n",
       "</style>\n",
       "<table border=\"1\" class=\"dataframe\">\n",
       "  <thead>\n",
       "    <tr style=\"text-align: right;\">\n",
       "      <th></th>\n",
       "      <th>algorithm</th>\n",
       "      <th>features</th>\n",
       "      <th>n_features</th>\n",
       "      <th>train_time</th>\n",
       "      <th>mem_max</th>\n",
       "      <th>r2</th>\n",
       "      <th>neg_mean_absolute_error</th>\n",
       "      <th>neg_mean_squared_error</th>\n",
       "    </tr>\n",
       "  </thead>\n",
       "  <tbody>\n",
       "    <tr>\n",
       "      <th>0</th>\n",
       "      <td>LinearRegression</td>\n",
       "      <td>(volatile acidity, sulphates, alcohol)</td>\n",
       "      <td>3</td>\n",
       "      <td>4.553148</td>\n",
       "      <td>202.160156</td>\n",
       "      <td>0.333393</td>\n",
       "      <td>-0.094169</td>\n",
       "      <td>-0.015700</td>\n",
       "    </tr>\n",
       "    <tr>\n",
       "      <th>1</th>\n",
       "      <td>LinearRegression</td>\n",
       "      <td>(volatile acidity, citric acid, sulphates, alc...</td>\n",
       "      <td>4</td>\n",
       "      <td>5.178391</td>\n",
       "      <td>202.347656</td>\n",
       "      <td>0.325921</td>\n",
       "      <td>-0.095163</td>\n",
       "      <td>-0.015828</td>\n",
       "    </tr>\n",
       "    <tr>\n",
       "      <th>2</th>\n",
       "      <td>LinearRegression</td>\n",
       "      <td>(volatile acidity, citric acid, alcohol)</td>\n",
       "      <td>3</td>\n",
       "      <td>3.254045</td>\n",
       "      <td>202.359375</td>\n",
       "      <td>0.300605</td>\n",
       "      <td>-0.097956</td>\n",
       "      <td>-0.016433</td>\n",
       "    </tr>\n",
       "    <tr>\n",
       "      <th>3</th>\n",
       "      <td>LinearRegression</td>\n",
       "      <td>(citric acid, sulphates, alcohol)</td>\n",
       "      <td>3</td>\n",
       "      <td>4.704993</td>\n",
       "      <td>202.253906</td>\n",
       "      <td>0.298444</td>\n",
       "      <td>-0.095554</td>\n",
       "      <td>-0.016520</td>\n",
       "    </tr>\n",
       "    <tr>\n",
       "      <th>4</th>\n",
       "      <td>KNeighborsRegressor</td>\n",
       "      <td>(volatile acidity, sulphates, alcohol)</td>\n",
       "      <td>3</td>\n",
       "      <td>5.199398</td>\n",
       "      <td>202.031250</td>\n",
       "      <td>0.235586</td>\n",
       "      <td>-0.098750</td>\n",
       "      <td>-0.018000</td>\n",
       "    </tr>\n",
       "    <tr>\n",
       "      <th>5</th>\n",
       "      <td>SVR</td>\n",
       "      <td>(volatile acidity, sulphates, alcohol)</td>\n",
       "      <td>3</td>\n",
       "      <td>4.923653</td>\n",
       "      <td>205.234375</td>\n",
       "      <td>0.223576</td>\n",
       "      <td>-0.113434</td>\n",
       "      <td>-0.018313</td>\n",
       "    </tr>\n",
       "    <tr>\n",
       "      <th>6</th>\n",
       "      <td>SVR</td>\n",
       "      <td>(citric acid, sulphates, alcohol)</td>\n",
       "      <td>3</td>\n",
       "      <td>5.299597</td>\n",
       "      <td>205.269531</td>\n",
       "      <td>0.184024</td>\n",
       "      <td>-0.115802</td>\n",
       "      <td>-0.019307</td>\n",
       "    </tr>\n",
       "    <tr>\n",
       "      <th>7</th>\n",
       "      <td>SVR</td>\n",
       "      <td>(volatile acidity, citric acid, sulphates, alc...</td>\n",
       "      <td>4</td>\n",
       "      <td>4.132933</td>\n",
       "      <td>205.644531</td>\n",
       "      <td>0.179338</td>\n",
       "      <td>-0.113559</td>\n",
       "      <td>-0.019263</td>\n",
       "    </tr>\n",
       "    <tr>\n",
       "      <th>8</th>\n",
       "      <td>KNeighborsRegressor</td>\n",
       "      <td>(citric acid, sulphates, alcohol)</td>\n",
       "      <td>3</td>\n",
       "      <td>4.570702</td>\n",
       "      <td>202.238281</td>\n",
       "      <td>0.169381</td>\n",
       "      <td>-0.104750</td>\n",
       "      <td>-0.019560</td>\n",
       "    </tr>\n",
       "    <tr>\n",
       "      <th>9</th>\n",
       "      <td>SVR</td>\n",
       "      <td>(volatile acidity, citric acid, alcohol)</td>\n",
       "      <td>3</td>\n",
       "      <td>2.670618</td>\n",
       "      <td>205.093750</td>\n",
       "      <td>0.167897</td>\n",
       "      <td>-0.115954</td>\n",
       "      <td>-0.019567</td>\n",
       "    </tr>\n",
       "  </tbody>\n",
       "</table>\n",
       "</div>"
      ],
      "text/plain": [
       "             algorithm                                           features  \\\n",
       "0     LinearRegression             (volatile acidity, sulphates, alcohol)   \n",
       "1     LinearRegression  (volatile acidity, citric acid, sulphates, alc...   \n",
       "2     LinearRegression           (volatile acidity, citric acid, alcohol)   \n",
       "3     LinearRegression                  (citric acid, sulphates, alcohol)   \n",
       "4  KNeighborsRegressor             (volatile acidity, sulphates, alcohol)   \n",
       "5                  SVR             (volatile acidity, sulphates, alcohol)   \n",
       "6                  SVR                  (citric acid, sulphates, alcohol)   \n",
       "7                  SVR  (volatile acidity, citric acid, sulphates, alc...   \n",
       "8  KNeighborsRegressor                  (citric acid, sulphates, alcohol)   \n",
       "9                  SVR           (volatile acidity, citric acid, alcohol)   \n",
       "\n",
       "  n_features  train_time     mem_max        r2  neg_mean_absolute_error  \\\n",
       "0          3    4.553148  202.160156  0.333393                -0.094169   \n",
       "1          4    5.178391  202.347656  0.325921                -0.095163   \n",
       "2          3    3.254045  202.359375  0.300605                -0.097956   \n",
       "3          3    4.704993  202.253906  0.298444                -0.095554   \n",
       "4          3    5.199398  202.031250  0.235586                -0.098750   \n",
       "5          3    4.923653  205.234375  0.223576                -0.113434   \n",
       "6          3    5.299597  205.269531  0.184024                -0.115802   \n",
       "7          4    4.132933  205.644531  0.179338                -0.113559   \n",
       "8          3    4.570702  202.238281  0.169381                -0.104750   \n",
       "9          3    2.670618  205.093750  0.167897                -0.115954   \n",
       "\n",
       "   neg_mean_squared_error  \n",
       "0               -0.015700  \n",
       "1               -0.015828  \n",
       "2               -0.016433  \n",
       "3               -0.016520  \n",
       "4               -0.018000  \n",
       "5               -0.018313  \n",
       "6               -0.019307  \n",
       "7               -0.019263  \n",
       "8               -0.019560  \n",
       "9               -0.019567  "
      ]
     },
     "execution_count": 13,
     "metadata": {},
     "output_type": "execute_result"
    }
   ],
   "source": [
    "import autoML\n",
    "\n",
    "automl = autoML.AutoML(ds_dadosbrutos, 'quality'\n",
    "                             , min_x_y_correlation_rate=0.20\n",
    "                             , n_features_threshold=0.75)\n",
    "\n",
    "dfResults = automl.getResults()\n",
    "dfResults.head(10)"
   ]
  },
  {
   "cell_type": "code",
   "execution_count": 14,
   "metadata": {},
   "outputs": [
    {
     "data": {
      "text/html": [
       "<div>\n",
       "<style scoped>\n",
       "    .dataframe tbody tr th:only-of-type {\n",
       "        vertical-align: middle;\n",
       "    }\n",
       "\n",
       "    .dataframe tbody tr th {\n",
       "        vertical-align: top;\n",
       "    }\n",
       "\n",
       "    .dataframe thead th {\n",
       "        text-align: right;\n",
       "    }\n",
       "</style>\n",
       "<table border=\"1\" class=\"dataframe\">\n",
       "  <thead>\n",
       "    <tr style=\"text-align: right;\">\n",
       "      <th></th>\n",
       "      <th>train_time</th>\n",
       "      <th>mem_max</th>\n",
       "      <th>r2</th>\n",
       "      <th>neg_mean_absolute_error</th>\n",
       "      <th>neg_mean_squared_error</th>\n",
       "    </tr>\n",
       "    <tr>\n",
       "      <th>algorithm</th>\n",
       "      <th></th>\n",
       "      <th></th>\n",
       "      <th></th>\n",
       "      <th></th>\n",
       "      <th></th>\n",
       "    </tr>\n",
       "  </thead>\n",
       "  <tbody>\n",
       "    <tr>\n",
       "      <th>LinearRegression</th>\n",
       "      <td>4.526788</td>\n",
       "      <td>202.239062</td>\n",
       "      <td>0.278752</td>\n",
       "      <td>-0.099379</td>\n",
       "      <td>-0.016933</td>\n",
       "    </tr>\n",
       "    <tr>\n",
       "      <th>SVR</th>\n",
       "      <td>4.464784</td>\n",
       "      <td>205.349219</td>\n",
       "      <td>0.173585</td>\n",
       "      <td>-0.115733</td>\n",
       "      <td>-0.019458</td>\n",
       "    </tr>\n",
       "    <tr>\n",
       "      <th>KNeighborsRegressor</th>\n",
       "      <td>4.552171</td>\n",
       "      <td>202.339844</td>\n",
       "      <td>0.146431</td>\n",
       "      <td>-0.106850</td>\n",
       "      <td>-0.020048</td>\n",
       "    </tr>\n",
       "    <tr>\n",
       "      <th>DecisionTreeRegressor</th>\n",
       "      <td>4.589745</td>\n",
       "      <td>202.239062</td>\n",
       "      <td>-0.445792</td>\n",
       "      <td>-0.121563</td>\n",
       "      <td>-0.032875</td>\n",
       "    </tr>\n",
       "  </tbody>\n",
       "</table>\n",
       "</div>"
      ],
      "text/plain": [
       "                       train_time     mem_max        r2  \\\n",
       "algorithm                                                 \n",
       "LinearRegression         4.526788  202.239062  0.278752   \n",
       "SVR                      4.464784  205.349219  0.173585   \n",
       "KNeighborsRegressor      4.552171  202.339844  0.146431   \n",
       "DecisionTreeRegressor    4.589745  202.239062 -0.445792   \n",
       "\n",
       "                       neg_mean_absolute_error  neg_mean_squared_error  \n",
       "algorithm                                                               \n",
       "LinearRegression                     -0.099379               -0.016933  \n",
       "SVR                                  -0.115733               -0.019458  \n",
       "KNeighborsRegressor                  -0.106850               -0.020048  \n",
       "DecisionTreeRegressor                -0.121563               -0.032875  "
      ]
     },
     "execution_count": 14,
     "metadata": {},
     "output_type": "execute_result"
    }
   ],
   "source": [
    "dfGroupBy_algorithm = dfResults.groupby('algorithm').mean().sort_values('r2', ascending=False)\n",
    "dfGroupBy_algorithm"
   ]
  },
  {
   "cell_type": "code",
   "execution_count": 15,
   "metadata": {},
   "outputs": [
    {
     "data": {
      "image/png": "[encoded data removed]",
      "text/plain": [
       "<Figure size 432x288 with 1 Axes>"
      ]
     },
     "metadata": {
      "needs_background": "light"
     },
     "output_type": "display_data"
    }
   ],
   "source": [
    "dfGroupBy_algorithm['train_time'].plot.bar();"
   ]
  },
  {
   "cell_type": "code",
   "execution_count": 16,
   "metadata": {},
   "outputs": [
    {
     "data": {
      "image/png": "[encoded data removed]",
      "text/plain": [
       "<Figure size 432x288 with 1 Axes>"
      ]
     },
     "metadata": {
      "needs_background": "light"
     },
     "output_type": "display_data"
    }
   ],
   "source": [
    "dfGroupBy_algorithm['mem_max'].plot.bar();"
   ]
  },
  {
   "cell_type": "code",
   "execution_count": 17,
   "metadata": {},
   "outputs": [
    {
     "data": {
      "image/png": "[encoded data removed]",
      "text/plain": [
       "<Figure size 432x288 with 1 Axes>"
      ]
     },
     "metadata": {
      "needs_background": "light"
     },
     "output_type": "display_data"
    }
   ],
   "source": [
    "dfGroupBy_algorithm['r2'].plot.bar();"
   ]
  },
  {
   "cell_type": "code",
   "execution_count": 18,
   "metadata": {},
   "outputs": [
    {
     "data": {
      "image/png": "[encoded data removed]",
      "text/plain": [
       "<Figure size 432x288 with 1 Axes>"
      ]
     },
     "metadata": {
      "needs_background": "light"
     },
     "output_type": "display_data"
    }
   ],
   "source": [
    "dfGroupBy_algorithm['neg_mean_absolute_error'].plot.bar();"
   ]
  },
  {
   "cell_type": "code",
   "execution_count": 19,
   "metadata": {},
   "outputs": [
    {
     "data": {
      "image/png": "[encoded data removed]",
      "text/plain": [
       "<Figure size 432x288 with 1 Axes>"
      ]
     },
     "metadata": {
      "needs_background": "light"
     },
     "output_type": "display_data"
    }
   ],
   "source": [
    "dfGroupBy_algorithm['neg_mean_squared_error'].plot.bar();"
   ]
  }
 ],
 "metadata": {
  "interpreter": {
   "hash": "c4b62fceddc06dd276b407a252c1a463ef87e47b1a1840188fdb674abd87f8b3"
  },
  "kernelspec": {
   "display_name": "Python 3.9.1 64-bit",
   "name": "python3"
  },
  "language_info": {
   "codemirror_mode": {
    "name": "ipython",
    "version": 3
   },
   "file_extension": ".py",
   "mimetype": "text/x-python",
   "name": "python",
   "nbconvert_exporter": "python",
   "pygments_lexer": "ipython3",
   "version": "3.9.1"
  },
  "orig_nbformat": 4
 },
 "nbformat": 4,
 "nbformat_minor": 2
}
