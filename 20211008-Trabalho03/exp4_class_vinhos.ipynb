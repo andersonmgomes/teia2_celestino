{
 "cells": [
  {
   "cell_type": "markdown",
   "metadata": {},
   "source": [
    "# Comparando SVM com outros algoritmos (Classificação Binária - Qualidade Vinhos)"
   ]
  },
  {
   "cell_type": "code",
   "execution_count": 1,
   "metadata": {},
   "outputs": [
    {
     "data": {
      "text/html": [
       "<div>\n",
       "<style scoped>\n",
       "    .dataframe tbody tr th:only-of-type {\n",
       "        vertical-align: middle;\n",
       "    }\n",
       "\n",
       "    .dataframe tbody tr th {\n",
       "        vertical-align: top;\n",
       "    }\n",
       "\n",
       "    .dataframe thead th {\n",
       "        text-align: right;\n",
       "    }\n",
       "</style>\n",
       "<table border=\"1\" class=\"dataframe\">\n",
       "  <thead>\n",
       "    <tr style=\"text-align: right;\">\n",
       "      <th></th>\n",
       "      <th>fixed acidity</th>\n",
       "      <th>volatile acidity</th>\n",
       "      <th>citric acid</th>\n",
       "      <th>residual sugar</th>\n",
       "      <th>chlorides</th>\n",
       "      <th>free sulfur dioxide</th>\n",
       "      <th>total sulfur dioxide</th>\n",
       "      <th>density</th>\n",
       "      <th>pH</th>\n",
       "      <th>sulphates</th>\n",
       "      <th>alcohol</th>\n",
       "      <th>high_quality</th>\n",
       "    </tr>\n",
       "  </thead>\n",
       "  <tbody>\n",
       "    <tr>\n",
       "      <th>0</th>\n",
       "      <td>7.4</td>\n",
       "      <td>0.70</td>\n",
       "      <td>0.00</td>\n",
       "      <td>1.9</td>\n",
       "      <td>0.076</td>\n",
       "      <td>11.0</td>\n",
       "      <td>34.0</td>\n",
       "      <td>0.9978</td>\n",
       "      <td>3.51</td>\n",
       "      <td>0.56</td>\n",
       "      <td>9.4</td>\n",
       "      <td>0</td>\n",
       "    </tr>\n",
       "    <tr>\n",
       "      <th>1</th>\n",
       "      <td>7.8</td>\n",
       "      <td>0.88</td>\n",
       "      <td>0.00</td>\n",
       "      <td>2.6</td>\n",
       "      <td>0.098</td>\n",
       "      <td>25.0</td>\n",
       "      <td>67.0</td>\n",
       "      <td>0.9968</td>\n",
       "      <td>3.20</td>\n",
       "      <td>0.68</td>\n",
       "      <td>9.8</td>\n",
       "      <td>0</td>\n",
       "    </tr>\n",
       "    <tr>\n",
       "      <th>2</th>\n",
       "      <td>7.8</td>\n",
       "      <td>0.76</td>\n",
       "      <td>0.04</td>\n",
       "      <td>2.3</td>\n",
       "      <td>0.092</td>\n",
       "      <td>15.0</td>\n",
       "      <td>54.0</td>\n",
       "      <td>0.9970</td>\n",
       "      <td>3.26</td>\n",
       "      <td>0.65</td>\n",
       "      <td>9.8</td>\n",
       "      <td>0</td>\n",
       "    </tr>\n",
       "    <tr>\n",
       "      <th>3</th>\n",
       "      <td>11.2</td>\n",
       "      <td>0.28</td>\n",
       "      <td>0.56</td>\n",
       "      <td>1.9</td>\n",
       "      <td>0.075</td>\n",
       "      <td>17.0</td>\n",
       "      <td>60.0</td>\n",
       "      <td>0.9980</td>\n",
       "      <td>3.16</td>\n",
       "      <td>0.58</td>\n",
       "      <td>9.8</td>\n",
       "      <td>0</td>\n",
       "    </tr>\n",
       "    <tr>\n",
       "      <th>4</th>\n",
       "      <td>7.4</td>\n",
       "      <td>0.70</td>\n",
       "      <td>0.00</td>\n",
       "      <td>1.9</td>\n",
       "      <td>0.076</td>\n",
       "      <td>11.0</td>\n",
       "      <td>34.0</td>\n",
       "      <td>0.9978</td>\n",
       "      <td>3.51</td>\n",
       "      <td>0.56</td>\n",
       "      <td>9.4</td>\n",
       "      <td>0</td>\n",
       "    </tr>\n",
       "  </tbody>\n",
       "</table>\n",
       "</div>"
      ],
      "text/plain": [
       "   fixed acidity  volatile acidity  citric acid  residual sugar  chlorides  \\\n",
       "0            7.4              0.70         0.00             1.9      0.076   \n",
       "1            7.8              0.88         0.00             2.6      0.098   \n",
       "2            7.8              0.76         0.04             2.3      0.092   \n",
       "3           11.2              0.28         0.56             1.9      0.075   \n",
       "4            7.4              0.70         0.00             1.9      0.076   \n",
       "\n",
       "   free sulfur dioxide  total sulfur dioxide  density    pH  sulphates  \\\n",
       "0                 11.0                  34.0   0.9978  3.51       0.56   \n",
       "1                 25.0                  67.0   0.9968  3.20       0.68   \n",
       "2                 15.0                  54.0   0.9970  3.26       0.65   \n",
       "3                 17.0                  60.0   0.9980  3.16       0.58   \n",
       "4                 11.0                  34.0   0.9978  3.51       0.56   \n",
       "\n",
       "   alcohol  high_quality  \n",
       "0      9.4             0  \n",
       "1      9.8             0  \n",
       "2      9.8             0  \n",
       "3      9.8             0  \n",
       "4      9.4             0  "
      ]
     },
     "execution_count": 1,
     "metadata": {},
     "output_type": "execute_result"
    }
   ],
   "source": [
    "import trab03_utils as util\n",
    "\n",
    "ds_dadosbrutos = util.getDSWine_RED_ClassProb()\n",
    "ds_dadosbrutos.head()"
   ]
  },
  {
   "cell_type": "code",
   "execution_count": 2,
   "metadata": {},
   "outputs": [
    {
     "data": {
      "text/html": [
       "<div>\n",
       "<style scoped>\n",
       "    .dataframe tbody tr th:only-of-type {\n",
       "        vertical-align: middle;\n",
       "    }\n",
       "\n",
       "    .dataframe tbody tr th {\n",
       "        vertical-align: top;\n",
       "    }\n",
       "\n",
       "    .dataframe thead th {\n",
       "        text-align: right;\n",
       "    }\n",
       "</style>\n",
       "<table border=\"1\" class=\"dataframe\">\n",
       "  <thead>\n",
       "    <tr style=\"text-align: right;\">\n",
       "      <th></th>\n",
       "      <th>algorithm</th>\n",
       "      <th>features</th>\n",
       "      <th>n_features</th>\n",
       "      <th>train_time</th>\n",
       "      <th>mem_max</th>\n",
       "      <th>f1</th>\n",
       "      <th>accuracy</th>\n",
       "      <th>roc_auc</th>\n",
       "      <th>confusion_matrix</th>\n",
       "    </tr>\n",
       "  </thead>\n",
       "  <tbody>\n",
       "    <tr>\n",
       "      <th>0</th>\n",
       "      <td>DecisionTreeClassifier</td>\n",
       "      <td>(volatile acidity, citric acid, total sulfur d...</td>\n",
       "      <td>6</td>\n",
       "      <td>2.245390</td>\n",
       "      <td>194.519531</td>\n",
       "      <td>0.376410</td>\n",
       "      <td>0.846875</td>\n",
       "      <td>0.630733</td>\n",
       "      <td>[[253, 30], [19, 18]]</td>\n",
       "    </tr>\n",
       "    <tr>\n",
       "      <th>1</th>\n",
       "      <td>DecisionTreeClassifier</td>\n",
       "      <td>(fixed acidity, volatile acidity, citric acid,...</td>\n",
       "      <td>7</td>\n",
       "      <td>2.346948</td>\n",
       "      <td>194.941406</td>\n",
       "      <td>0.333333</td>\n",
       "      <td>0.856250</td>\n",
       "      <td>0.618233</td>\n",
       "      <td>[[258, 25], [16, 21]]</td>\n",
       "    </tr>\n",
       "    <tr>\n",
       "      <th>2</th>\n",
       "      <td>DecisionTreeClassifier</td>\n",
       "      <td>(fixed acidity, volatile acidity, citric acid,...</td>\n",
       "      <td>6</td>\n",
       "      <td>3.318600</td>\n",
       "      <td>194.878906</td>\n",
       "      <td>0.318315</td>\n",
       "      <td>0.853125</td>\n",
       "      <td>0.605733</td>\n",
       "      <td>[[254, 29], [15, 22]]</td>\n",
       "    </tr>\n",
       "    <tr>\n",
       "      <th>3</th>\n",
       "      <td>DecisionTreeClassifier</td>\n",
       "      <td>(fixed acidity, volatile acidity, citric acid,...</td>\n",
       "      <td>6</td>\n",
       "      <td>2.284499</td>\n",
       "      <td>194.804688</td>\n",
       "      <td>0.315643</td>\n",
       "      <td>0.853125</td>\n",
       "      <td>0.627224</td>\n",
       "      <td>[[255, 28], [16, 21]]</td>\n",
       "    </tr>\n",
       "    <tr>\n",
       "      <th>4</th>\n",
       "      <td>DecisionTreeClassifier</td>\n",
       "      <td>(fixed acidity, citric acid, total sulfur diox...</td>\n",
       "      <td>6</td>\n",
       "      <td>2.363258</td>\n",
       "      <td>194.722656</td>\n",
       "      <td>0.303262</td>\n",
       "      <td>0.840625</td>\n",
       "      <td>0.602287</td>\n",
       "      <td>[[255, 28], [14, 23]]</td>\n",
       "    </tr>\n",
       "    <tr>\n",
       "      <th>5</th>\n",
       "      <td>DecisionTreeClassifier</td>\n",
       "      <td>(fixed acidity, volatile acidity, citric acid,...</td>\n",
       "      <td>6</td>\n",
       "      <td>2.377347</td>\n",
       "      <td>194.507812</td>\n",
       "      <td>0.302015</td>\n",
       "      <td>0.843750</td>\n",
       "      <td>0.621930</td>\n",
       "      <td>[[261, 22], [17, 20]]</td>\n",
       "    </tr>\n",
       "    <tr>\n",
       "      <th>6</th>\n",
       "      <td>DecisionTreeClassifier</td>\n",
       "      <td>(fixed acidity, volatile acidity, total sulfur...</td>\n",
       "      <td>6</td>\n",
       "      <td>2.290152</td>\n",
       "      <td>194.929688</td>\n",
       "      <td>0.300952</td>\n",
       "      <td>0.843750</td>\n",
       "      <td>0.587907</td>\n",
       "      <td>[[254, 29], [11, 26]]</td>\n",
       "    </tr>\n",
       "    <tr>\n",
       "      <th>7</th>\n",
       "      <td>KNeighborsClassifier</td>\n",
       "      <td>(volatile acidity, citric acid, total sulfur d...</td>\n",
       "      <td>6</td>\n",
       "      <td>2.416271</td>\n",
       "      <td>194.746094</td>\n",
       "      <td>0.278100</td>\n",
       "      <td>0.878125</td>\n",
       "      <td>0.727726</td>\n",
       "      <td>[[268, 15], [24, 13]]</td>\n",
       "    </tr>\n",
       "    <tr>\n",
       "      <th>8</th>\n",
       "      <td>DecisionTreeClassifier</td>\n",
       "      <td>(fixed acidity, volatile acidity, citric acid,...</td>\n",
       "      <td>6</td>\n",
       "      <td>2.310773</td>\n",
       "      <td>194.640625</td>\n",
       "      <td>0.268848</td>\n",
       "      <td>0.825000</td>\n",
       "      <td>0.620207</td>\n",
       "      <td>[[258, 25], [14, 23]]</td>\n",
       "    </tr>\n",
       "    <tr>\n",
       "      <th>9</th>\n",
       "      <td>KNeighborsClassifier</td>\n",
       "      <td>(fixed acidity, volatile acidity, citric acid,...</td>\n",
       "      <td>6</td>\n",
       "      <td>2.343441</td>\n",
       "      <td>194.742188</td>\n",
       "      <td>0.268571</td>\n",
       "      <td>0.878125</td>\n",
       "      <td>0.723191</td>\n",
       "      <td>[[269, 14], [21, 16]]</td>\n",
       "    </tr>\n",
       "  </tbody>\n",
       "</table>\n",
       "</div>"
      ],
      "text/plain": [
       "                algorithm                                           features  \\\n",
       "0  DecisionTreeClassifier  (volatile acidity, citric acid, total sulfur d...   \n",
       "1  DecisionTreeClassifier  (fixed acidity, volatile acidity, citric acid,...   \n",
       "2  DecisionTreeClassifier  (fixed acidity, volatile acidity, citric acid,...   \n",
       "3  DecisionTreeClassifier  (fixed acidity, volatile acidity, citric acid,...   \n",
       "4  DecisionTreeClassifier  (fixed acidity, citric acid, total sulfur diox...   \n",
       "5  DecisionTreeClassifier  (fixed acidity, volatile acidity, citric acid,...   \n",
       "6  DecisionTreeClassifier  (fixed acidity, volatile acidity, total sulfur...   \n",
       "7    KNeighborsClassifier  (volatile acidity, citric acid, total sulfur d...   \n",
       "8  DecisionTreeClassifier  (fixed acidity, volatile acidity, citric acid,...   \n",
       "9    KNeighborsClassifier  (fixed acidity, volatile acidity, citric acid,...   \n",
       "\n",
       "  n_features  train_time     mem_max        f1  accuracy   roc_auc  \\\n",
       "0          6    2.245390  194.519531  0.376410  0.846875  0.630733   \n",
       "1          7    2.346948  194.941406  0.333333  0.856250  0.618233   \n",
       "2          6    3.318600  194.878906  0.318315  0.853125  0.605733   \n",
       "3          6    2.284499  194.804688  0.315643  0.853125  0.627224   \n",
       "4          6    2.363258  194.722656  0.303262  0.840625  0.602287   \n",
       "5          6    2.377347  194.507812  0.302015  0.843750  0.621930   \n",
       "6          6    2.290152  194.929688  0.300952  0.843750  0.587907   \n",
       "7          6    2.416271  194.746094  0.278100  0.878125  0.727726   \n",
       "8          6    2.310773  194.640625  0.268848  0.825000  0.620207   \n",
       "9          6    2.343441  194.742188  0.268571  0.878125  0.723191   \n",
       "\n",
       "        confusion_matrix  \n",
       "0  [[253, 30], [19, 18]]  \n",
       "1  [[258, 25], [16, 21]]  \n",
       "2  [[254, 29], [15, 22]]  \n",
       "3  [[255, 28], [16, 21]]  \n",
       "4  [[255, 28], [14, 23]]  \n",
       "5  [[261, 22], [17, 20]]  \n",
       "6  [[254, 29], [11, 26]]  \n",
       "7  [[268, 15], [24, 13]]  \n",
       "8  [[258, 25], [14, 23]]  \n",
       "9  [[269, 14], [21, 16]]  "
      ]
     },
     "execution_count": 2,
     "metadata": {},
     "output_type": "execute_result"
    }
   ],
   "source": [
    "import autoML\n",
    "\n",
    "automl = autoML.AutoML(ds_dadosbrutos, 'high_quality'\n",
    "                             , min_x_y_correlation_rate=0.1\n",
    "                             , n_features_threshold=0.75)\n",
    "\n",
    "dfResults = automl.getResults()\n",
    "dfResults.head(10)"
   ]
  },
  {
   "cell_type": "code",
   "execution_count": 3,
   "metadata": {},
   "outputs": [
    {
     "data": {
      "image/png": "[encoded data removed]",
      "text/plain": [
       "<Figure size 432x288 with 2 Axes>"
      ]
     },
     "metadata": {
      "needs_background": "light"
     },
     "output_type": "display_data"
    }
   ],
   "source": [
    "automl.getBestConfusionMatrix()"
   ]
  },
  {
   "cell_type": "code",
   "execution_count": 4,
   "metadata": {},
   "outputs": [
    {
     "data": {
      "text/html": [
       "<div>\n",
       "<style scoped>\n",
       "    .dataframe tbody tr th:only-of-type {\n",
       "        vertical-align: middle;\n",
       "    }\n",
       "\n",
       "    .dataframe tbody tr th {\n",
       "        vertical-align: top;\n",
       "    }\n",
       "\n",
       "    .dataframe thead th {\n",
       "        text-align: right;\n",
       "    }\n",
       "</style>\n",
       "<table border=\"1\" class=\"dataframe\">\n",
       "  <thead>\n",
       "    <tr style=\"text-align: right;\">\n",
       "      <th></th>\n",
       "      <th>train_time</th>\n",
       "      <th>mem_max</th>\n",
       "      <th>f1</th>\n",
       "      <th>accuracy</th>\n",
       "      <th>roc_auc</th>\n",
       "    </tr>\n",
       "    <tr>\n",
       "      <th>algorithm</th>\n",
       "      <th></th>\n",
       "      <th></th>\n",
       "      <th></th>\n",
       "      <th></th>\n",
       "      <th></th>\n",
       "    </tr>\n",
       "  </thead>\n",
       "  <tbody>\n",
       "    <tr>\n",
       "      <th>DecisionTreeClassifier</th>\n",
       "      <td>2.496862</td>\n",
       "      <td>193.417480</td>\n",
       "      <td>0.322567</td>\n",
       "      <td>0.841016</td>\n",
       "      <td>0.621198</td>\n",
       "    </tr>\n",
       "    <tr>\n",
       "      <th>KNeighborsClassifier</th>\n",
       "      <td>2.668907</td>\n",
       "      <td>193.207031</td>\n",
       "      <td>0.229282</td>\n",
       "      <td>0.873047</td>\n",
       "      <td>0.730594</td>\n",
       "    </tr>\n",
       "    <tr>\n",
       "      <th>SVC</th>\n",
       "      <td>2.539358</td>\n",
       "      <td>193.972656</td>\n",
       "      <td>0.077917</td>\n",
       "      <td>0.889062</td>\n",
       "      <td>0.722017</td>\n",
       "    </tr>\n",
       "    <tr>\n",
       "      <th>LogisticRegression</th>\n",
       "      <td>2.352879</td>\n",
       "      <td>191.925781</td>\n",
       "      <td>0.000000</td>\n",
       "      <td>0.884375</td>\n",
       "      <td>0.845950</td>\n",
       "    </tr>\n",
       "  </tbody>\n",
       "</table>\n",
       "</div>"
      ],
      "text/plain": [
       "                        train_time     mem_max        f1  accuracy   roc_auc\n",
       "algorithm                                                                   \n",
       "DecisionTreeClassifier    2.496862  193.417480  0.322567  0.841016  0.621198\n",
       "KNeighborsClassifier      2.668907  193.207031  0.229282  0.873047  0.730594\n",
       "SVC                       2.539358  193.972656  0.077917  0.889062  0.722017\n",
       "LogisticRegression        2.352879  191.925781  0.000000  0.884375  0.845950"
      ]
     },
     "execution_count": 4,
     "metadata": {},
     "output_type": "execute_result"
    }
   ],
   "source": [
    "dfGroupBy_algorithm = dfResults.groupby('algorithm').mean().sort_values('f1', ascending=False)\n",
    "dfGroupBy_algorithm"
   ]
  },
  {
   "cell_type": "code",
   "execution_count": 5,
   "metadata": {},
   "outputs": [
    {
     "data": {
      "image/png": "[encoded data removed]",
      "text/plain": [
       "<Figure size 432x288 with 1 Axes>"
      ]
     },
     "metadata": {
      "needs_background": "light"
     },
     "output_type": "display_data"
    }
   ],
   "source": [
    "dfGroupBy_algorithm['train_time'].plot.bar();"
   ]
  },
  {
   "cell_type": "code",
   "execution_count": 6,
   "metadata": {},
   "outputs": [
    {
     "data": {
      "image/png": "[encoded data removed]",
      "text/plain": [
       "<Figure size 432x288 with 1 Axes>"
      ]
     },
     "metadata": {
      "needs_background": "light"
     },
     "output_type": "display_data"
    }
   ],
   "source": [
    "dfGroupBy_algorithm['mem_max'].plot.bar();"
   ]
  },
  {
   "cell_type": "code",
   "execution_count": 7,
   "metadata": {},
   "outputs": [
    {
     "data": {
      "image/png": "[encoded data removed]",
      "text/plain": [
       "<Figure size 432x288 with 1 Axes>"
      ]
     },
     "metadata": {
      "needs_background": "light"
     },
     "output_type": "display_data"
    }
   ],
   "source": [
    "dfGroupBy_algorithm['f1'].plot.bar();"
   ]
  },
  {
   "cell_type": "code",
   "execution_count": 8,
   "metadata": {},
   "outputs": [
    {
     "data": {
      "image/png": "[encoded data removed]",
      "text/plain": [
       "<Figure size 432x288 with 1 Axes>"
      ]
     },
     "metadata": {
      "needs_background": "light"
     },
     "output_type": "display_data"
    }
   ],
   "source": [
    "dfGroupBy_algorithm['accuracy'].plot.bar();"
   ]
  },
  {
   "cell_type": "code",
   "execution_count": 9,
   "metadata": {},
   "outputs": [
    {
     "data": {
      "image/png": "[encoded data removed]",
      "text/plain": [
       "<Figure size 432x288 with 1 Axes>"
      ]
     },
     "metadata": {
      "needs_background": "light"
     },
     "output_type": "display_data"
    }
   ],
   "source": [
    "dfGroupBy_algorithm['roc_auc'].plot.bar();"
   ]
  }
 ],
 "metadata": {
  "interpreter": {
   "hash": "c4b62fceddc06dd276b407a252c1a463ef87e47b1a1840188fdb674abd87f8b3"
  },
  "kernelspec": {
   "display_name": "Python 3.9.1 64-bit",
   "name": "python3"
  },
  "language_info": {
   "codemirror_mode": {
    "name": "ipython",
    "version": 3
   },
   "file_extension": ".py",
   "mimetype": "text/x-python",
   "name": "python",
   "nbconvert_exporter": "python",
   "pygments_lexer": "ipython3",
   "version": "3.9.1"
  },
  "orig_nbformat": 4
 },
 "nbformat": 4,
 "nbformat_minor": 2
}
