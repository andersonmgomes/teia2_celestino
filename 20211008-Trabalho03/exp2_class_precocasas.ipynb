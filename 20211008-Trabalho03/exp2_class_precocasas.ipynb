{
 "cells": [
  {
   "cell_type": "markdown",
   "metadata": {},
   "source": [
    "# Comparando SVM com outros algoritmos (Classificação Binária - Preço Casas)"
   ]
  },
  {
   "cell_type": "code",
   "execution_count": 1,
   "metadata": {},
   "outputs": [
    {
     "data": {
      "text/html": [
       "<div>\n",
       "<style scoped>\n",
       "    .dataframe tbody tr th:only-of-type {\n",
       "        vertical-align: middle;\n",
       "    }\n",
       "\n",
       "    .dataframe tbody tr th {\n",
       "        vertical-align: top;\n",
       "    }\n",
       "\n",
       "    .dataframe thead th {\n",
       "        text-align: right;\n",
       "    }\n",
       "</style>\n",
       "<table border=\"1\" class=\"dataframe\">\n",
       "  <thead>\n",
       "    <tr style=\"text-align: right;\">\n",
       "      <th></th>\n",
       "      <th>Avg. Area Income</th>\n",
       "      <th>Avg. Area House Age</th>\n",
       "      <th>Avg. Area Number of Rooms</th>\n",
       "      <th>Avg. Area Number of Bedrooms</th>\n",
       "      <th>Area Population</th>\n",
       "      <th>Address</th>\n",
       "      <th>high_price</th>\n",
       "    </tr>\n",
       "  </thead>\n",
       "  <tbody>\n",
       "    <tr>\n",
       "      <th>0</th>\n",
       "      <td>79545.458574</td>\n",
       "      <td>5.682861</td>\n",
       "      <td>7.009188</td>\n",
       "      <td>4.09</td>\n",
       "      <td>23086.800503</td>\n",
       "      <td>208 Michael Ferry Apt. 674\\r\\nLaurabury, NE 37...</td>\n",
       "      <td>False</td>\n",
       "    </tr>\n",
       "    <tr>\n",
       "      <th>1</th>\n",
       "      <td>79248.642455</td>\n",
       "      <td>6.002900</td>\n",
       "      <td>6.730821</td>\n",
       "      <td>3.09</td>\n",
       "      <td>40173.072174</td>\n",
       "      <td>188 Johnson Views Suite 079\\r\\nLake Kathleen, ...</td>\n",
       "      <td>True</td>\n",
       "    </tr>\n",
       "    <tr>\n",
       "      <th>2</th>\n",
       "      <td>61287.067179</td>\n",
       "      <td>5.865890</td>\n",
       "      <td>8.512727</td>\n",
       "      <td>5.13</td>\n",
       "      <td>36882.159400</td>\n",
       "      <td>9127 Elizabeth Stravenue\\r\\nDanieltown, WI 064...</td>\n",
       "      <td>False</td>\n",
       "    </tr>\n",
       "    <tr>\n",
       "      <th>3</th>\n",
       "      <td>63345.240046</td>\n",
       "      <td>7.188236</td>\n",
       "      <td>5.586729</td>\n",
       "      <td>3.26</td>\n",
       "      <td>34310.242831</td>\n",
       "      <td>USS Barnett\\r\\nFPO AP 44820</td>\n",
       "      <td>False</td>\n",
       "    </tr>\n",
       "    <tr>\n",
       "      <th>4</th>\n",
       "      <td>59982.197226</td>\n",
       "      <td>5.040555</td>\n",
       "      <td>7.839388</td>\n",
       "      <td>4.23</td>\n",
       "      <td>26354.109472</td>\n",
       "      <td>USNS Raymond\\r\\nFPO AE 09386</td>\n",
       "      <td>False</td>\n",
       "    </tr>\n",
       "  </tbody>\n",
       "</table>\n",
       "</div>"
      ],
      "text/plain": [
       "   Avg. Area Income  Avg. Area House Age  Avg. Area Number of Rooms  \\\n",
       "0      79545.458574             5.682861                   7.009188   \n",
       "1      79248.642455             6.002900                   6.730821   \n",
       "2      61287.067179             5.865890                   8.512727   \n",
       "3      63345.240046             7.188236                   5.586729   \n",
       "4      59982.197226             5.040555                   7.839388   \n",
       "\n",
       "   Avg. Area Number of Bedrooms  Area Population  \\\n",
       "0                          4.09     23086.800503   \n",
       "1                          3.09     40173.072174   \n",
       "2                          5.13     36882.159400   \n",
       "3                          3.26     34310.242831   \n",
       "4                          4.23     26354.109472   \n",
       "\n",
       "                                             Address  high_price  \n",
       "0  208 Michael Ferry Apt. 674\\r\\nLaurabury, NE 37...       False  \n",
       "1  188 Johnson Views Suite 079\\r\\nLake Kathleen, ...        True  \n",
       "2  9127 Elizabeth Stravenue\\r\\nDanieltown, WI 064...       False  \n",
       "3                        USS Barnett\\r\\nFPO AP 44820       False  \n",
       "4                       USNS Raymond\\r\\nFPO AE 09386       False  "
      ]
     },
     "execution_count": 1,
     "metadata": {},
     "output_type": "execute_result"
    }
   ],
   "source": [
    "import trab03_utils as util\n",
    "\n",
    "ds_dadosbrutos = util.getDSPriceHousing_ClassProb()\n",
    "ds_dadosbrutos.head()"
   ]
  },
  {
   "cell_type": "code",
   "execution_count": 3,
   "metadata": {},
   "outputs": [
    {
     "data": {
      "text/html": [
       "<div>\n",
       "<style scoped>\n",
       "    .dataframe tbody tr th:only-of-type {\n",
       "        vertical-align: middle;\n",
       "    }\n",
       "\n",
       "    .dataframe tbody tr th {\n",
       "        vertical-align: top;\n",
       "    }\n",
       "\n",
       "    .dataframe thead th {\n",
       "        text-align: right;\n",
       "    }\n",
       "</style>\n",
       "<table border=\"1\" class=\"dataframe\">\n",
       "  <thead>\n",
       "    <tr style=\"text-align: right;\">\n",
       "      <th></th>\n",
       "      <th>algorithm</th>\n",
       "      <th>features</th>\n",
       "      <th>n_features</th>\n",
       "      <th>train_time</th>\n",
       "      <th>mem_max</th>\n",
       "      <th>f1</th>\n",
       "      <th>accuracy</th>\n",
       "      <th>roc_auc</th>\n",
       "      <th>confusion_matrix</th>\n",
       "    </tr>\n",
       "  </thead>\n",
       "  <tbody>\n",
       "    <tr>\n",
       "      <th>0</th>\n",
       "      <td>SVC</td>\n",
       "      <td>(Avg. Area Income, Avg. Area House Age, Avg. A...</td>\n",
       "      <td>4</td>\n",
       "      <td>1.323080</td>\n",
       "      <td>206.210938</td>\n",
       "      <td>0.822167</td>\n",
       "      <td>0.910</td>\n",
       "      <td>0.970685</td>\n",
       "      <td>[[701, 38], [47, 214]]</td>\n",
       "    </tr>\n",
       "    <tr>\n",
       "      <th>1</th>\n",
       "      <td>SVC</td>\n",
       "      <td>(Avg. Area Income, Avg. Area House Age, Avg. A...</td>\n",
       "      <td>5</td>\n",
       "      <td>1.374620</td>\n",
       "      <td>207.035156</td>\n",
       "      <td>0.812659</td>\n",
       "      <td>0.908</td>\n",
       "      <td>0.968161</td>\n",
       "      <td>[[700, 39], [48, 213]]</td>\n",
       "    </tr>\n",
       "    <tr>\n",
       "      <th>2</th>\n",
       "      <td>KNeighborsClassifier</td>\n",
       "      <td>(Avg. Area Income, Avg. Area House Age, Avg. A...</td>\n",
       "      <td>4</td>\n",
       "      <td>2.150091</td>\n",
       "      <td>196.890625</td>\n",
       "      <td>0.784189</td>\n",
       "      <td>0.893</td>\n",
       "      <td>0.948313</td>\n",
       "      <td>[[698, 41], [49, 212]]</td>\n",
       "    </tr>\n",
       "    <tr>\n",
       "      <th>3</th>\n",
       "      <td>SVC</td>\n",
       "      <td>(Avg. Area Income, Avg. Area House Age, Avg. A...</td>\n",
       "      <td>4</td>\n",
       "      <td>1.487183</td>\n",
       "      <td>206.222656</td>\n",
       "      <td>0.763477</td>\n",
       "      <td>0.883</td>\n",
       "      <td>0.944404</td>\n",
       "      <td>[[704, 35], [70, 191]]</td>\n",
       "    </tr>\n",
       "    <tr>\n",
       "      <th>4</th>\n",
       "      <td>KNeighborsClassifier</td>\n",
       "      <td>(Avg. Area Income, Avg. Area House Age, Avg. A...</td>\n",
       "      <td>5</td>\n",
       "      <td>2.195904</td>\n",
       "      <td>197.613281</td>\n",
       "      <td>0.735255</td>\n",
       "      <td>0.877</td>\n",
       "      <td>0.921373</td>\n",
       "      <td>[[698, 41], [67, 194]]</td>\n",
       "    </tr>\n",
       "    <tr>\n",
       "      <th>5</th>\n",
       "      <td>LogisticRegression</td>\n",
       "      <td>(Avg. Area Income, Avg. Area House Age, Avg. A...</td>\n",
       "      <td>5</td>\n",
       "      <td>2.190650</td>\n",
       "      <td>194.558594</td>\n",
       "      <td>0.714465</td>\n",
       "      <td>0.881</td>\n",
       "      <td>0.974150</td>\n",
       "      <td>[[717, 22], [60, 201]]</td>\n",
       "    </tr>\n",
       "    <tr>\n",
       "      <th>6</th>\n",
       "      <td>LogisticRegression</td>\n",
       "      <td>(Avg. Area Income, Avg. Area House Age, Avg. A...</td>\n",
       "      <td>4</td>\n",
       "      <td>2.242486</td>\n",
       "      <td>193.714844</td>\n",
       "      <td>0.707375</td>\n",
       "      <td>0.879</td>\n",
       "      <td>0.975941</td>\n",
       "      <td>[[716, 23], [62, 199]]</td>\n",
       "    </tr>\n",
       "    <tr>\n",
       "      <th>7</th>\n",
       "      <td>DecisionTreeClassifier</td>\n",
       "      <td>(Avg. Area Income, Avg. Area House Age, Avg. A...</td>\n",
       "      <td>4</td>\n",
       "      <td>2.092941</td>\n",
       "      <td>197.753906</td>\n",
       "      <td>0.704636</td>\n",
       "      <td>0.853</td>\n",
       "      <td>0.783440</td>\n",
       "      <td>[[677, 62], [56, 205]]</td>\n",
       "    </tr>\n",
       "    <tr>\n",
       "      <th>8</th>\n",
       "      <td>DecisionTreeClassifier</td>\n",
       "      <td>(Avg. Area Income, Avg. Area House Age, Avg. A...</td>\n",
       "      <td>5</td>\n",
       "      <td>2.066388</td>\n",
       "      <td>197.531250</td>\n",
       "      <td>0.702336</td>\n",
       "      <td>0.842</td>\n",
       "      <td>0.784330</td>\n",
       "      <td>[[680, 59], [72, 189]]</td>\n",
       "    </tr>\n",
       "    <tr>\n",
       "      <th>9</th>\n",
       "      <td>KNeighborsClassifier</td>\n",
       "      <td>(Avg. Area Income, Avg. Area House Age, Avg. A...</td>\n",
       "      <td>4</td>\n",
       "      <td>2.162854</td>\n",
       "      <td>197.039062</td>\n",
       "      <td>0.697042</td>\n",
       "      <td>0.853</td>\n",
       "      <td>0.886651</td>\n",
       "      <td>[[691, 48], [73, 188]]</td>\n",
       "    </tr>\n",
       "  </tbody>\n",
       "</table>\n",
       "</div>"
      ],
      "text/plain": [
       "                algorithm                                           features  \\\n",
       "0                     SVC  (Avg. Area Income, Avg. Area House Age, Avg. A...   \n",
       "1                     SVC  (Avg. Area Income, Avg. Area House Age, Avg. A...   \n",
       "2    KNeighborsClassifier  (Avg. Area Income, Avg. Area House Age, Avg. A...   \n",
       "3                     SVC  (Avg. Area Income, Avg. Area House Age, Avg. A...   \n",
       "4    KNeighborsClassifier  (Avg. Area Income, Avg. Area House Age, Avg. A...   \n",
       "5      LogisticRegression  (Avg. Area Income, Avg. Area House Age, Avg. A...   \n",
       "6      LogisticRegression  (Avg. Area Income, Avg. Area House Age, Avg. A...   \n",
       "7  DecisionTreeClassifier  (Avg. Area Income, Avg. Area House Age, Avg. A...   \n",
       "8  DecisionTreeClassifier  (Avg. Area Income, Avg. Area House Age, Avg. A...   \n",
       "9    KNeighborsClassifier  (Avg. Area Income, Avg. Area House Age, Avg. A...   \n",
       "\n",
       "  n_features  train_time     mem_max        f1  accuracy   roc_auc  \\\n",
       "0          4    1.323080  206.210938  0.822167     0.910  0.970685   \n",
       "1          5    1.374620  207.035156  0.812659     0.908  0.968161   \n",
       "2          4    2.150091  196.890625  0.784189     0.893  0.948313   \n",
       "3          4    1.487183  206.222656  0.763477     0.883  0.944404   \n",
       "4          5    2.195904  197.613281  0.735255     0.877  0.921373   \n",
       "5          5    2.190650  194.558594  0.714465     0.881  0.974150   \n",
       "6          4    2.242486  193.714844  0.707375     0.879  0.975941   \n",
       "7          4    2.092941  197.753906  0.704636     0.853  0.783440   \n",
       "8          5    2.066388  197.531250  0.702336     0.842  0.784330   \n",
       "9          4    2.162854  197.039062  0.697042     0.853  0.886651   \n",
       "\n",
       "         confusion_matrix  \n",
       "0  [[701, 38], [47, 214]]  \n",
       "1  [[700, 39], [48, 213]]  \n",
       "2  [[698, 41], [49, 212]]  \n",
       "3  [[704, 35], [70, 191]]  \n",
       "4  [[698, 41], [67, 194]]  \n",
       "5  [[717, 22], [60, 201]]  \n",
       "6  [[716, 23], [62, 199]]  \n",
       "7  [[677, 62], [56, 205]]  \n",
       "8  [[680, 59], [72, 189]]  \n",
       "9  [[691, 48], [73, 188]]  "
      ]
     },
     "execution_count": 3,
     "metadata": {},
     "output_type": "execute_result"
    }
   ],
   "source": [
    "import autoML\n",
    "\n",
    "automl = autoML.AutoML(ds_dadosbrutos, 'high_price'\n",
    "                             , min_x_y_correlation_rate=0.1\n",
    "                             , n_features_threshold=0.75)\n",
    "\n",
    "dfResults = automl.getResults()\n",
    "dfResults.head(10)"
   ]
  },
  {
   "cell_type": "code",
   "execution_count": 4,
   "metadata": {},
   "outputs": [
    {
     "data": {
      "image/png": "[encoded data removed]",
      "text/plain": [
       "<Figure size 432x288 with 2 Axes>"
      ]
     },
     "metadata": {
      "needs_background": "light"
     },
     "output_type": "display_data"
    }
   ],
   "source": [
    "automl.getBestConfusionMatrix()"
   ]
  },
  {
   "cell_type": "code",
   "execution_count": 5,
   "metadata": {},
   "outputs": [
    {
     "data": {
      "text/html": [
       "<div>\n",
       "<style scoped>\n",
       "    .dataframe tbody tr th:only-of-type {\n",
       "        vertical-align: middle;\n",
       "    }\n",
       "\n",
       "    .dataframe tbody tr th {\n",
       "        vertical-align: top;\n",
       "    }\n",
       "\n",
       "    .dataframe thead th {\n",
       "        text-align: right;\n",
       "    }\n",
       "</style>\n",
       "<table border=\"1\" class=\"dataframe\">\n",
       "  <thead>\n",
       "    <tr style=\"text-align: right;\">\n",
       "      <th></th>\n",
       "      <th>train_time</th>\n",
       "      <th>mem_max</th>\n",
       "      <th>f1</th>\n",
       "      <th>accuracy</th>\n",
       "      <th>roc_auc</th>\n",
       "    </tr>\n",
       "    <tr>\n",
       "      <th>algorithm</th>\n",
       "      <th></th>\n",
       "      <th></th>\n",
       "      <th></th>\n",
       "      <th></th>\n",
       "      <th></th>\n",
       "    </tr>\n",
       "  </thead>\n",
       "  <tbody>\n",
       "    <tr>\n",
       "      <th>SVC</th>\n",
       "      <td>1.481530</td>\n",
       "      <td>210.858724</td>\n",
       "      <td>0.685266</td>\n",
       "      <td>0.859833</td>\n",
       "      <td>0.913158</td>\n",
       "    </tr>\n",
       "    <tr>\n",
       "      <th>KNeighborsClassifier</th>\n",
       "      <td>2.160488</td>\n",
       "      <td>197.219401</td>\n",
       "      <td>0.650725</td>\n",
       "      <td>0.837833</td>\n",
       "      <td>0.861273</td>\n",
       "    </tr>\n",
       "    <tr>\n",
       "      <th>DecisionTreeClassifier</th>\n",
       "      <td>2.043827</td>\n",
       "      <td>197.680339</td>\n",
       "      <td>0.610942</td>\n",
       "      <td>0.794000</td>\n",
       "      <td>0.728965</td>\n",
       "    </tr>\n",
       "    <tr>\n",
       "      <th>LogisticRegression</th>\n",
       "      <td>2.230876</td>\n",
       "      <td>193.959635</td>\n",
       "      <td>0.609584</td>\n",
       "      <td>0.847500</td>\n",
       "      <td>0.927103</td>\n",
       "    </tr>\n",
       "  </tbody>\n",
       "</table>\n",
       "</div>"
      ],
      "text/plain": [
       "                        train_time     mem_max        f1  accuracy   roc_auc\n",
       "algorithm                                                                   \n",
       "SVC                       1.481530  210.858724  0.685266  0.859833  0.913158\n",
       "KNeighborsClassifier      2.160488  197.219401  0.650725  0.837833  0.861273\n",
       "DecisionTreeClassifier    2.043827  197.680339  0.610942  0.794000  0.728965\n",
       "LogisticRegression        2.230876  193.959635  0.609584  0.847500  0.927103"
      ]
     },
     "execution_count": 5,
     "metadata": {},
     "output_type": "execute_result"
    }
   ],
   "source": [
    "dfGroupBy_algorithm = dfResults.groupby('algorithm').mean().sort_values('f1', ascending=False)\n",
    "dfGroupBy_algorithm"
   ]
  },
  {
   "cell_type": "code",
   "execution_count": 6,
   "metadata": {},
   "outputs": [
    {
     "data": {
      "image/png": "[encoded data removed]",
      "text/plain": [
       "<Figure size 432x288 with 1 Axes>"
      ]
     },
     "metadata": {
      "needs_background": "light"
     },
     "output_type": "display_data"
    }
   ],
   "source": [
    "dfGroupBy_algorithm['train_time'].plot.bar();"
   ]
  },
  {
   "cell_type": "code",
   "execution_count": 7,
   "metadata": {},
   "outputs": [
    {
     "data": {
      "image/png": "[encoded data removed]",
      "text/plain": [
       "<Figure size 432x288 with 1 Axes>"
      ]
     },
     "metadata": {
      "needs_background": "light"
     },
     "output_type": "display_data"
    }
   ],
   "source": [
    "dfGroupBy_algorithm['mem_max'].plot.bar();"
   ]
  },
  {
   "cell_type": "code",
   "execution_count": 8,
   "metadata": {},
   "outputs": [
    {
     "data": {
      "image/png": "[encoded data removed]",
      "text/plain": [
       "<Figure size 432x288 with 1 Axes>"
      ]
     },
     "metadata": {
      "needs_background": "light"
     },
     "output_type": "display_data"
    }
   ],
   "source": [
    "dfGroupBy_algorithm['f1'].plot.bar();"
   ]
  },
  {
   "cell_type": "code",
   "execution_count": 9,
   "metadata": {},
   "outputs": [
    {
     "data": {
      "image/png": "[encoded data removed]",
      "text/plain": [
       "<Figure size 432x288 with 1 Axes>"
      ]
     },
     "metadata": {
      "needs_background": "light"
     },
     "output_type": "display_data"
    }
   ],
   "source": [
    "dfGroupBy_algorithm['accuracy'].plot.bar();"
   ]
  },
  {
   "cell_type": "code",
   "execution_count": 10,
   "metadata": {},
   "outputs": [
    {
     "data": {
      "image/png": "[encoded data removed]",
      "text/plain": [
       "<Figure size 432x288 with 1 Axes>"
      ]
     },
     "metadata": {
      "needs_background": "light"
     },
     "output_type": "display_data"
    }
   ],
   "source": [
    "dfGroupBy_algorithm['roc_auc'].plot.bar();"
   ]
  }
 ],
 "metadata": {
  "interpreter": {
   "hash": "c4b62fceddc06dd276b407a252c1a463ef87e47b1a1840188fdb674abd87f8b3"
  },
  "kernelspec": {
   "display_name": "Python 3.9.1 64-bit",
   "name": "python3"
  },
  "language_info": {
   "codemirror_mode": {
    "name": "ipython",
    "version": 3
   },
   "file_extension": ".py",
   "mimetype": "text/x-python",
   "name": "python",
   "nbconvert_exporter": "python",
   "pygments_lexer": "ipython3",
   "version": "3.9.1"
  },
  "orig_nbformat": 4
 },
 "nbformat": 4,
 "nbformat_minor": 2
}
