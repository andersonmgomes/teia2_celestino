{
 "cells": [
  {
   "cell_type": "code",
   "execution_count": null,
   "source": [
    "#aula de 20/09/2021\r\n",
    "#código do professor:\r\n",
    "#https://colab.research.google.com/drive/1Hf4G70X3D6R82aflexGCkGGr9WvfTPy1?usp=sharing\r\n",
    "\r\n",
    "\r\n"
   ],
   "outputs": [],
   "metadata": {}
  }
 ],
 "metadata": {
  "orig_nbformat": 4,
  "language_info": {
   "name": "python",
   "version": "3.9.1"
  },
  "kernelspec": {
   "name": "python3",
   "display_name": "Python 3.9.1 64-bit"
  },
  "interpreter": {
   "hash": "c4b62fceddc06dd276b407a252c1a463ef87e47b1a1840188fdb674abd87f8b3"
  }
 },
 "nbformat": 4,
 "nbformat_minor": 2
}